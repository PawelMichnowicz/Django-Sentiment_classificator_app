{
  "cells": [
    {
      "cell_type": "markdown",
      "metadata": {
        "id": "1iP03Aol6uyO"
      },
      "source": [
        "### Viewing data"
      ]
    },
    {
      "cell_type": "code",
      "execution_count": 1,
      "metadata": {
        "id": "a9KdWp7_oon3"
      },
      "outputs": [],
      "source": [
        "import pandas as pd\n",
        "import numpy as np\n",
        "import re"
      ]
    },
    {
      "cell_type": "code",
      "execution_count": 2,
      "metadata": {
        "colab": {
          "base_uri": "https://localhost:8080/",
          "height": 362
        },
        "id": "4Uci0Smrcylx",
        "outputId": "e07e2294-2a41-4031-936a-e69c5a54e5a3"
      },
      "outputs": [
        {
          "output_type": "error",
          "ename": "FileNotFoundError",
          "evalue": "ignored",
          "traceback": [
            "\u001b[0;31m---------------------------------------------------------------------------\u001b[0m",
            "\u001b[0;31mFileNotFoundError\u001b[0m                         Traceback (most recent call last)",
            "\u001b[0;32m<ipython-input-2-6d31b347717f>\u001b[0m in \u001b[0;36m<module>\u001b[0;34m()\u001b[0m\n\u001b[0;32m----> 1\u001b[0;31m \u001b[0mdf\u001b[0m \u001b[0;34m=\u001b[0m \u001b[0mpd\u001b[0m\u001b[0;34m.\u001b[0m\u001b[0mread_csv\u001b[0m\u001b[0;34m(\u001b[0m\u001b[0;34m'/content/train.csv'\u001b[0m\u001b[0;34m)\u001b[0m\u001b[0;34m\u001b[0m\u001b[0;34m\u001b[0m\u001b[0m\n\u001b[0m\u001b[1;32m      2\u001b[0m \u001b[0mdf\u001b[0m\u001b[0;34m.\u001b[0m\u001b[0mhead\u001b[0m\u001b[0;34m(\u001b[0m\u001b[0;34m)\u001b[0m\u001b[0;34m\u001b[0m\u001b[0;34m\u001b[0m\u001b[0m\n",
            "\u001b[0;32m/usr/local/lib/python3.7/dist-packages/pandas/util/_decorators.py\u001b[0m in \u001b[0;36mwrapper\u001b[0;34m(*args, **kwargs)\u001b[0m\n\u001b[1;32m    309\u001b[0m                     \u001b[0mstacklevel\u001b[0m\u001b[0;34m=\u001b[0m\u001b[0mstacklevel\u001b[0m\u001b[0;34m,\u001b[0m\u001b[0;34m\u001b[0m\u001b[0;34m\u001b[0m\u001b[0m\n\u001b[1;32m    310\u001b[0m                 )\n\u001b[0;32m--> 311\u001b[0;31m             \u001b[0;32mreturn\u001b[0m \u001b[0mfunc\u001b[0m\u001b[0;34m(\u001b[0m\u001b[0;34m*\u001b[0m\u001b[0margs\u001b[0m\u001b[0;34m,\u001b[0m \u001b[0;34m**\u001b[0m\u001b[0mkwargs\u001b[0m\u001b[0;34m)\u001b[0m\u001b[0;34m\u001b[0m\u001b[0;34m\u001b[0m\u001b[0m\n\u001b[0m\u001b[1;32m    312\u001b[0m \u001b[0;34m\u001b[0m\u001b[0m\n\u001b[1;32m    313\u001b[0m         \u001b[0;32mreturn\u001b[0m \u001b[0mwrapper\u001b[0m\u001b[0;34m\u001b[0m\u001b[0;34m\u001b[0m\u001b[0m\n",
            "\u001b[0;32m/usr/local/lib/python3.7/dist-packages/pandas/io/parsers/readers.py\u001b[0m in \u001b[0;36mread_csv\u001b[0;34m(filepath_or_buffer, sep, delimiter, header, names, index_col, usecols, squeeze, prefix, mangle_dupe_cols, dtype, engine, converters, true_values, false_values, skipinitialspace, skiprows, skipfooter, nrows, na_values, keep_default_na, na_filter, verbose, skip_blank_lines, parse_dates, infer_datetime_format, keep_date_col, date_parser, dayfirst, cache_dates, iterator, chunksize, compression, thousands, decimal, lineterminator, quotechar, quoting, doublequote, escapechar, comment, encoding, encoding_errors, dialect, error_bad_lines, warn_bad_lines, on_bad_lines, delim_whitespace, low_memory, memory_map, float_precision, storage_options)\u001b[0m\n\u001b[1;32m    584\u001b[0m     \u001b[0mkwds\u001b[0m\u001b[0;34m.\u001b[0m\u001b[0mupdate\u001b[0m\u001b[0;34m(\u001b[0m\u001b[0mkwds_defaults\u001b[0m\u001b[0;34m)\u001b[0m\u001b[0;34m\u001b[0m\u001b[0;34m\u001b[0m\u001b[0m\n\u001b[1;32m    585\u001b[0m \u001b[0;34m\u001b[0m\u001b[0m\n\u001b[0;32m--> 586\u001b[0;31m     \u001b[0;32mreturn\u001b[0m \u001b[0m_read\u001b[0m\u001b[0;34m(\u001b[0m\u001b[0mfilepath_or_buffer\u001b[0m\u001b[0;34m,\u001b[0m \u001b[0mkwds\u001b[0m\u001b[0;34m)\u001b[0m\u001b[0;34m\u001b[0m\u001b[0;34m\u001b[0m\u001b[0m\n\u001b[0m\u001b[1;32m    587\u001b[0m \u001b[0;34m\u001b[0m\u001b[0m\n\u001b[1;32m    588\u001b[0m \u001b[0;34m\u001b[0m\u001b[0m\n",
            "\u001b[0;32m/usr/local/lib/python3.7/dist-packages/pandas/io/parsers/readers.py\u001b[0m in \u001b[0;36m_read\u001b[0;34m(filepath_or_buffer, kwds)\u001b[0m\n\u001b[1;32m    480\u001b[0m \u001b[0;34m\u001b[0m\u001b[0m\n\u001b[1;32m    481\u001b[0m     \u001b[0;31m# Create the parser.\u001b[0m\u001b[0;34m\u001b[0m\u001b[0;34m\u001b[0m\u001b[0;34m\u001b[0m\u001b[0m\n\u001b[0;32m--> 482\u001b[0;31m     \u001b[0mparser\u001b[0m \u001b[0;34m=\u001b[0m \u001b[0mTextFileReader\u001b[0m\u001b[0;34m(\u001b[0m\u001b[0mfilepath_or_buffer\u001b[0m\u001b[0;34m,\u001b[0m \u001b[0;34m**\u001b[0m\u001b[0mkwds\u001b[0m\u001b[0;34m)\u001b[0m\u001b[0;34m\u001b[0m\u001b[0;34m\u001b[0m\u001b[0m\n\u001b[0m\u001b[1;32m    483\u001b[0m \u001b[0;34m\u001b[0m\u001b[0m\n\u001b[1;32m    484\u001b[0m     \u001b[0;32mif\u001b[0m \u001b[0mchunksize\u001b[0m \u001b[0;32mor\u001b[0m \u001b[0miterator\u001b[0m\u001b[0;34m:\u001b[0m\u001b[0;34m\u001b[0m\u001b[0;34m\u001b[0m\u001b[0m\n",
            "\u001b[0;32m/usr/local/lib/python3.7/dist-packages/pandas/io/parsers/readers.py\u001b[0m in \u001b[0;36m__init__\u001b[0;34m(self, f, engine, **kwds)\u001b[0m\n\u001b[1;32m    809\u001b[0m             \u001b[0mself\u001b[0m\u001b[0;34m.\u001b[0m\u001b[0moptions\u001b[0m\u001b[0;34m[\u001b[0m\u001b[0;34m\"has_index_names\"\u001b[0m\u001b[0;34m]\u001b[0m \u001b[0;34m=\u001b[0m \u001b[0mkwds\u001b[0m\u001b[0;34m[\u001b[0m\u001b[0;34m\"has_index_names\"\u001b[0m\u001b[0;34m]\u001b[0m\u001b[0;34m\u001b[0m\u001b[0;34m\u001b[0m\u001b[0m\n\u001b[1;32m    810\u001b[0m \u001b[0;34m\u001b[0m\u001b[0m\n\u001b[0;32m--> 811\u001b[0;31m         \u001b[0mself\u001b[0m\u001b[0;34m.\u001b[0m\u001b[0m_engine\u001b[0m \u001b[0;34m=\u001b[0m \u001b[0mself\u001b[0m\u001b[0;34m.\u001b[0m\u001b[0m_make_engine\u001b[0m\u001b[0;34m(\u001b[0m\u001b[0mself\u001b[0m\u001b[0;34m.\u001b[0m\u001b[0mengine\u001b[0m\u001b[0;34m)\u001b[0m\u001b[0;34m\u001b[0m\u001b[0;34m\u001b[0m\u001b[0m\n\u001b[0m\u001b[1;32m    812\u001b[0m \u001b[0;34m\u001b[0m\u001b[0m\n\u001b[1;32m    813\u001b[0m     \u001b[0;32mdef\u001b[0m \u001b[0mclose\u001b[0m\u001b[0;34m(\u001b[0m\u001b[0mself\u001b[0m\u001b[0;34m)\u001b[0m\u001b[0;34m:\u001b[0m\u001b[0;34m\u001b[0m\u001b[0;34m\u001b[0m\u001b[0m\n",
            "\u001b[0;32m/usr/local/lib/python3.7/dist-packages/pandas/io/parsers/readers.py\u001b[0m in \u001b[0;36m_make_engine\u001b[0;34m(self, engine)\u001b[0m\n\u001b[1;32m   1038\u001b[0m             )\n\u001b[1;32m   1039\u001b[0m         \u001b[0;31m# error: Too many arguments for \"ParserBase\"\u001b[0m\u001b[0;34m\u001b[0m\u001b[0;34m\u001b[0m\u001b[0;34m\u001b[0m\u001b[0m\n\u001b[0;32m-> 1040\u001b[0;31m         \u001b[0;32mreturn\u001b[0m \u001b[0mmapping\u001b[0m\u001b[0;34m[\u001b[0m\u001b[0mengine\u001b[0m\u001b[0;34m]\u001b[0m\u001b[0;34m(\u001b[0m\u001b[0mself\u001b[0m\u001b[0;34m.\u001b[0m\u001b[0mf\u001b[0m\u001b[0;34m,\u001b[0m \u001b[0;34m**\u001b[0m\u001b[0mself\u001b[0m\u001b[0;34m.\u001b[0m\u001b[0moptions\u001b[0m\u001b[0;34m)\u001b[0m  \u001b[0;31m# type: ignore[call-arg]\u001b[0m\u001b[0;34m\u001b[0m\u001b[0;34m\u001b[0m\u001b[0m\n\u001b[0m\u001b[1;32m   1041\u001b[0m \u001b[0;34m\u001b[0m\u001b[0m\n\u001b[1;32m   1042\u001b[0m     \u001b[0;32mdef\u001b[0m \u001b[0m_failover_to_python\u001b[0m\u001b[0;34m(\u001b[0m\u001b[0mself\u001b[0m\u001b[0;34m)\u001b[0m\u001b[0;34m:\u001b[0m\u001b[0;34m\u001b[0m\u001b[0;34m\u001b[0m\u001b[0m\n",
            "\u001b[0;32m/usr/local/lib/python3.7/dist-packages/pandas/io/parsers/c_parser_wrapper.py\u001b[0m in \u001b[0;36m__init__\u001b[0;34m(self, src, **kwds)\u001b[0m\n\u001b[1;32m     49\u001b[0m \u001b[0;34m\u001b[0m\u001b[0m\n\u001b[1;32m     50\u001b[0m         \u001b[0;31m# open handles\u001b[0m\u001b[0;34m\u001b[0m\u001b[0;34m\u001b[0m\u001b[0;34m\u001b[0m\u001b[0m\n\u001b[0;32m---> 51\u001b[0;31m         \u001b[0mself\u001b[0m\u001b[0;34m.\u001b[0m\u001b[0m_open_handles\u001b[0m\u001b[0;34m(\u001b[0m\u001b[0msrc\u001b[0m\u001b[0;34m,\u001b[0m \u001b[0mkwds\u001b[0m\u001b[0;34m)\u001b[0m\u001b[0;34m\u001b[0m\u001b[0;34m\u001b[0m\u001b[0m\n\u001b[0m\u001b[1;32m     52\u001b[0m         \u001b[0;32massert\u001b[0m \u001b[0mself\u001b[0m\u001b[0;34m.\u001b[0m\u001b[0mhandles\u001b[0m \u001b[0;32mis\u001b[0m \u001b[0;32mnot\u001b[0m \u001b[0;32mNone\u001b[0m\u001b[0;34m\u001b[0m\u001b[0;34m\u001b[0m\u001b[0m\n\u001b[1;32m     53\u001b[0m \u001b[0;34m\u001b[0m\u001b[0m\n",
            "\u001b[0;32m/usr/local/lib/python3.7/dist-packages/pandas/io/parsers/base_parser.py\u001b[0m in \u001b[0;36m_open_handles\u001b[0;34m(self, src, kwds)\u001b[0m\n\u001b[1;32m    227\u001b[0m             \u001b[0mmemory_map\u001b[0m\u001b[0;34m=\u001b[0m\u001b[0mkwds\u001b[0m\u001b[0;34m.\u001b[0m\u001b[0mget\u001b[0m\u001b[0;34m(\u001b[0m\u001b[0;34m\"memory_map\"\u001b[0m\u001b[0;34m,\u001b[0m \u001b[0;32mFalse\u001b[0m\u001b[0;34m)\u001b[0m\u001b[0;34m,\u001b[0m\u001b[0;34m\u001b[0m\u001b[0;34m\u001b[0m\u001b[0m\n\u001b[1;32m    228\u001b[0m             \u001b[0mstorage_options\u001b[0m\u001b[0;34m=\u001b[0m\u001b[0mkwds\u001b[0m\u001b[0;34m.\u001b[0m\u001b[0mget\u001b[0m\u001b[0;34m(\u001b[0m\u001b[0;34m\"storage_options\"\u001b[0m\u001b[0;34m,\u001b[0m \u001b[0;32mNone\u001b[0m\u001b[0;34m)\u001b[0m\u001b[0;34m,\u001b[0m\u001b[0;34m\u001b[0m\u001b[0;34m\u001b[0m\u001b[0m\n\u001b[0;32m--> 229\u001b[0;31m             \u001b[0merrors\u001b[0m\u001b[0;34m=\u001b[0m\u001b[0mkwds\u001b[0m\u001b[0;34m.\u001b[0m\u001b[0mget\u001b[0m\u001b[0;34m(\u001b[0m\u001b[0;34m\"encoding_errors\"\u001b[0m\u001b[0;34m,\u001b[0m \u001b[0;34m\"strict\"\u001b[0m\u001b[0;34m)\u001b[0m\u001b[0;34m,\u001b[0m\u001b[0;34m\u001b[0m\u001b[0;34m\u001b[0m\u001b[0m\n\u001b[0m\u001b[1;32m    230\u001b[0m         )\n\u001b[1;32m    231\u001b[0m \u001b[0;34m\u001b[0m\u001b[0m\n",
            "\u001b[0;32m/usr/local/lib/python3.7/dist-packages/pandas/io/common.py\u001b[0m in \u001b[0;36mget_handle\u001b[0;34m(path_or_buf, mode, encoding, compression, memory_map, is_text, errors, storage_options)\u001b[0m\n\u001b[1;32m    705\u001b[0m                 \u001b[0mencoding\u001b[0m\u001b[0;34m=\u001b[0m\u001b[0mioargs\u001b[0m\u001b[0;34m.\u001b[0m\u001b[0mencoding\u001b[0m\u001b[0;34m,\u001b[0m\u001b[0;34m\u001b[0m\u001b[0;34m\u001b[0m\u001b[0m\n\u001b[1;32m    706\u001b[0m                 \u001b[0merrors\u001b[0m\u001b[0;34m=\u001b[0m\u001b[0merrors\u001b[0m\u001b[0;34m,\u001b[0m\u001b[0;34m\u001b[0m\u001b[0;34m\u001b[0m\u001b[0m\n\u001b[0;32m--> 707\u001b[0;31m                 \u001b[0mnewline\u001b[0m\u001b[0;34m=\u001b[0m\u001b[0;34m\"\"\u001b[0m\u001b[0;34m,\u001b[0m\u001b[0;34m\u001b[0m\u001b[0;34m\u001b[0m\u001b[0m\n\u001b[0m\u001b[1;32m    708\u001b[0m             )\n\u001b[1;32m    709\u001b[0m         \u001b[0;32melse\u001b[0m\u001b[0;34m:\u001b[0m\u001b[0;34m\u001b[0m\u001b[0;34m\u001b[0m\u001b[0m\n",
            "\u001b[0;31mFileNotFoundError\u001b[0m: [Errno 2] No such file or directory: '/content/train.csv'"
          ]
        }
      ],
      "source": [
        "df = pd.read_csv('/content/train.csv')\n",
        "df.head()"
      ]
    },
    {
      "cell_type": "code",
      "execution_count": null,
      "metadata": {
        "id": "EB4w6wv_eR08"
      },
      "outputs": [],
      "source": [
        "df['sentiment'].value_counts()"
      ]
    },
    {
      "cell_type": "code",
      "execution_count": null,
      "metadata": {
        "id": "tt2wQXdidm9G"
      },
      "outputs": [],
      "source": [
        "positives = (df['sentiment']==1).sum() / len(df['sentiment'])*100\n",
        "negatives = (df['sentiment']==0).sum() / len(df['sentiment'])*100\n",
        "\n",
        "print(\"There is {}% of positives and {}% of negative labels\".format(positives, negatives))"
      ]
    },
    {
      "cell_type": "code",
      "execution_count": null,
      "metadata": {
        "id": "rnqtFK9WePcv"
      },
      "outputs": [],
      "source": [
        "symbols_avg = df['text'].apply(len).mean()\n",
        "\n",
        "print('Average numbers of symbols is equal {}'.format(np.round(symbols_avg)))"
      ]
    },
    {
      "cell_type": "code",
      "execution_count": null,
      "metadata": {
        "id": "Z0BKNBwkiRw-"
      },
      "outputs": [],
      "source": [
        "words_avg = df['text'].str.split(\" \").apply(len).mean()\n",
        "\n",
        "print('Average numbers of words is equal {}'.format(np.round(words_avg)))"
      ]
    },
    {
      "cell_type": "markdown",
      "metadata": {
        "id": "1I-01M0VjCsv"
      },
      "source": [
        "### Preparation of data"
      ]
    },
    {
      "cell_type": "code",
      "execution_count": null,
      "metadata": {
        "id": "MvrTSM4kkmcq"
      },
      "outputs": [],
      "source": [
        "# lowercase all text\n",
        "df['text'] = df['text'].str.lower()"
      ]
    },
    {
      "cell_type": "code",
      "execution_count": null,
      "metadata": {
        "id": "FR0EkD6Zkr-7"
      },
      "outputs": [],
      "source": [
        "# removing special characters and numbers\n",
        "df['text'] = df['text'].replace(r'[^A-Za-z ]+', '', regex=True)"
      ]
    },
    {
      "cell_type": "code",
      "execution_count": null,
      "metadata": {
        "colab": {
          "base_uri": "https://localhost:8080/"
        },
        "id": "s0Mt3UupmYVx",
        "outputId": "c094ab3d-b663-48e1-8da5-583377fe8ddc"
      },
      "outputs": [
        {
          "output_type": "stream",
          "name": "stderr",
          "text": [
            "[nltk_data] Downloading package punkt to /root/nltk_data...\n",
            "[nltk_data]   Unzipping tokenizers/punkt.zip.\n"
          ]
        },
        {
          "output_type": "execute_result",
          "data": {
            "text/plain": [
              "                                                text  sentiment  \\\n",
              "0  for a movie that gets no respect there sure ar...          0   \n",
              "1  bizarre horror movie filled with famous faces ...          0   \n",
              "2  a solid if unremarkable film matthau as einste...          0   \n",
              "3  its a strange feeling to sit alone in a theate...          0   \n",
              "4  you probably all already know this by now but ...          0   \n",
              "\n",
              "                                              tokens  \n",
              "0  [for, a, movie, that, gets, no, respect, there...  \n",
              "1  [bizarre, horror, movie, filled, with, famous,...  \n",
              "2  [a, solid, if, unremarkable, film, matthau, as...  \n",
              "3  [its, a, strange, feeling, to, sit, alone, in,...  \n",
              "4  [you, probably, all, already, know, this, by, ...  "
            ],
            "text/html": [
              "\n",
              "  <div id=\"df-6c002487-74ea-4cf2-878c-e6565571cefe\">\n",
              "    <div class=\"colab-df-container\">\n",
              "      <div>\n",
              "<style scoped>\n",
              "    .dataframe tbody tr th:only-of-type {\n",
              "        vertical-align: middle;\n",
              "    }\n",
              "\n",
              "    .dataframe tbody tr th {\n",
              "        vertical-align: top;\n",
              "    }\n",
              "\n",
              "    .dataframe thead th {\n",
              "        text-align: right;\n",
              "    }\n",
              "</style>\n",
              "<table border=\"1\" class=\"dataframe\">\n",
              "  <thead>\n",
              "    <tr style=\"text-align: right;\">\n",
              "      <th></th>\n",
              "      <th>text</th>\n",
              "      <th>sentiment</th>\n",
              "      <th>tokens</th>\n",
              "    </tr>\n",
              "  </thead>\n",
              "  <tbody>\n",
              "    <tr>\n",
              "      <th>0</th>\n",
              "      <td>for a movie that gets no respect there sure ar...</td>\n",
              "      <td>0</td>\n",
              "      <td>[for, a, movie, that, gets, no, respect, there...</td>\n",
              "    </tr>\n",
              "    <tr>\n",
              "      <th>1</th>\n",
              "      <td>bizarre horror movie filled with famous faces ...</td>\n",
              "      <td>0</td>\n",
              "      <td>[bizarre, horror, movie, filled, with, famous,...</td>\n",
              "    </tr>\n",
              "    <tr>\n",
              "      <th>2</th>\n",
              "      <td>a solid if unremarkable film matthau as einste...</td>\n",
              "      <td>0</td>\n",
              "      <td>[a, solid, if, unremarkable, film, matthau, as...</td>\n",
              "    </tr>\n",
              "    <tr>\n",
              "      <th>3</th>\n",
              "      <td>its a strange feeling to sit alone in a theate...</td>\n",
              "      <td>0</td>\n",
              "      <td>[its, a, strange, feeling, to, sit, alone, in,...</td>\n",
              "    </tr>\n",
              "    <tr>\n",
              "      <th>4</th>\n",
              "      <td>you probably all already know this by now but ...</td>\n",
              "      <td>0</td>\n",
              "      <td>[you, probably, all, already, know, this, by, ...</td>\n",
              "    </tr>\n",
              "  </tbody>\n",
              "</table>\n",
              "</div>\n",
              "      <button class=\"colab-df-convert\" onclick=\"convertToInteractive('df-6c002487-74ea-4cf2-878c-e6565571cefe')\"\n",
              "              title=\"Convert this dataframe to an interactive table.\"\n",
              "              style=\"display:none;\">\n",
              "        \n",
              "  <svg xmlns=\"http://www.w3.org/2000/svg\" height=\"24px\"viewBox=\"0 0 24 24\"\n",
              "       width=\"24px\">\n",
              "    <path d=\"M0 0h24v24H0V0z\" fill=\"none\"/>\n",
              "    <path d=\"M18.56 5.44l.94 2.06.94-2.06 2.06-.94-2.06-.94-.94-2.06-.94 2.06-2.06.94zm-11 1L8.5 8.5l.94-2.06 2.06-.94-2.06-.94L8.5 2.5l-.94 2.06-2.06.94zm10 10l.94 2.06.94-2.06 2.06-.94-2.06-.94-.94-2.06-.94 2.06-2.06.94z\"/><path d=\"M17.41 7.96l-1.37-1.37c-.4-.4-.92-.59-1.43-.59-.52 0-1.04.2-1.43.59L10.3 9.45l-7.72 7.72c-.78.78-.78 2.05 0 2.83L4 21.41c.39.39.9.59 1.41.59.51 0 1.02-.2 1.41-.59l7.78-7.78 2.81-2.81c.8-.78.8-2.07 0-2.86zM5.41 20L4 18.59l7.72-7.72 1.47 1.35L5.41 20z\"/>\n",
              "  </svg>\n",
              "      </button>\n",
              "      \n",
              "  <style>\n",
              "    .colab-df-container {\n",
              "      display:flex;\n",
              "      flex-wrap:wrap;\n",
              "      gap: 12px;\n",
              "    }\n",
              "\n",
              "    .colab-df-convert {\n",
              "      background-color: #E8F0FE;\n",
              "      border: none;\n",
              "      border-radius: 50%;\n",
              "      cursor: pointer;\n",
              "      display: none;\n",
              "      fill: #1967D2;\n",
              "      height: 32px;\n",
              "      padding: 0 0 0 0;\n",
              "      width: 32px;\n",
              "    }\n",
              "\n",
              "    .colab-df-convert:hover {\n",
              "      background-color: #E2EBFA;\n",
              "      box-shadow: 0px 1px 2px rgba(60, 64, 67, 0.3), 0px 1px 3px 1px rgba(60, 64, 67, 0.15);\n",
              "      fill: #174EA6;\n",
              "    }\n",
              "\n",
              "    [theme=dark] .colab-df-convert {\n",
              "      background-color: #3B4455;\n",
              "      fill: #D2E3FC;\n",
              "    }\n",
              "\n",
              "    [theme=dark] .colab-df-convert:hover {\n",
              "      background-color: #434B5C;\n",
              "      box-shadow: 0px 1px 3px 1px rgba(0, 0, 0, 0.15);\n",
              "      filter: drop-shadow(0px 1px 2px rgba(0, 0, 0, 0.3));\n",
              "      fill: #FFFFFF;\n",
              "    }\n",
              "  </style>\n",
              "\n",
              "      <script>\n",
              "        const buttonEl =\n",
              "          document.querySelector('#df-6c002487-74ea-4cf2-878c-e6565571cefe button.colab-df-convert');\n",
              "        buttonEl.style.display =\n",
              "          google.colab.kernel.accessAllowed ? 'block' : 'none';\n",
              "\n",
              "        async function convertToInteractive(key) {\n",
              "          const element = document.querySelector('#df-6c002487-74ea-4cf2-878c-e6565571cefe');\n",
              "          const dataTable =\n",
              "            await google.colab.kernel.invokeFunction('convertToInteractive',\n",
              "                                                     [key], {});\n",
              "          if (!dataTable) return;\n",
              "\n",
              "          const docLinkHtml = 'Like what you see? Visit the ' +\n",
              "            '<a target=\"_blank\" href=https://colab.research.google.com/notebooks/data_table.ipynb>data table notebook</a>'\n",
              "            + ' to learn more about interactive tables.';\n",
              "          element.innerHTML = '';\n",
              "          dataTable['output_type'] = 'display_data';\n",
              "          await google.colab.output.renderOutput(dataTable, element);\n",
              "          const docLink = document.createElement('div');\n",
              "          docLink.innerHTML = docLinkHtml;\n",
              "          element.appendChild(docLink);\n",
              "        }\n",
              "      </script>\n",
              "    </div>\n",
              "  </div>\n",
              "  "
            ]
          },
          "metadata": {},
          "execution_count": 12
        }
      ],
      "source": [
        "# tokenize texts\n",
        "from nltk.tokenize import word_tokenize\n",
        "import nltk\n",
        "nltk.download('punkt')\n",
        "\n",
        "df['tokens'] = df['text'].apply(word_tokenize)\n",
        "df.head()"
      ]
    },
    {
      "cell_type": "code",
      "execution_count": null,
      "metadata": {
        "colab": {
          "base_uri": "https://localhost:8080/"
        },
        "id": "Ll8uF19umxD1",
        "outputId": "c9843ab7-324f-4b2f-f747-c759ad465942"
      },
      "outputs": [
        {
          "output_type": "stream",
          "name": "stderr",
          "text": [
            "[nltk_data] Downloading package stopwords to /root/nltk_data...\n",
            "[nltk_data]   Unzipping corpora/stopwords.zip.\n"
          ]
        },
        {
          "output_type": "execute_result",
          "data": {
            "text/plain": [
              "                                                text  sentiment  \\\n",
              "0  for a movie that gets no respect there sure ar...          0   \n",
              "1  bizarre horror movie filled with famous faces ...          0   \n",
              "2  a solid if unremarkable film matthau as einste...          0   \n",
              "3  its a strange feeling to sit alone in a theate...          0   \n",
              "4  you probably all already know this by now but ...          0   \n",
              "\n",
              "                                              tokens  \\\n",
              "0  [for, a, movie, that, gets, no, respect, there...   \n",
              "1  [bizarre, horror, movie, filled, with, famous,...   \n",
              "2  [a, solid, if, unremarkable, film, matthau, as...   \n",
              "3  [its, a, strange, feeling, to, sit, alone, in,...   \n",
              "4  [you, probably, all, already, know, this, by, ...   \n",
              "\n",
              "                                                stop  \n",
              "0  [movie, gets, respect, sure, lot, memorable, q...  \n",
              "1  [bizarre, horror, movie, filled, famous, faces...  \n",
              "2  [solid, unremarkable, film, matthau, einstein,...  \n",
              "3  [strange, feeling, sit, alone, theater, occupi...  \n",
              "4  [probably, already, know, additional, episodes...  "
            ],
            "text/html": [
              "\n",
              "  <div id=\"df-c54b8e52-ba09-431e-bfe5-6eae96a1ce68\">\n",
              "    <div class=\"colab-df-container\">\n",
              "      <div>\n",
              "<style scoped>\n",
              "    .dataframe tbody tr th:only-of-type {\n",
              "        vertical-align: middle;\n",
              "    }\n",
              "\n",
              "    .dataframe tbody tr th {\n",
              "        vertical-align: top;\n",
              "    }\n",
              "\n",
              "    .dataframe thead th {\n",
              "        text-align: right;\n",
              "    }\n",
              "</style>\n",
              "<table border=\"1\" class=\"dataframe\">\n",
              "  <thead>\n",
              "    <tr style=\"text-align: right;\">\n",
              "      <th></th>\n",
              "      <th>text</th>\n",
              "      <th>sentiment</th>\n",
              "      <th>tokens</th>\n",
              "      <th>stop</th>\n",
              "    </tr>\n",
              "  </thead>\n",
              "  <tbody>\n",
              "    <tr>\n",
              "      <th>0</th>\n",
              "      <td>for a movie that gets no respect there sure ar...</td>\n",
              "      <td>0</td>\n",
              "      <td>[for, a, movie, that, gets, no, respect, there...</td>\n",
              "      <td>[movie, gets, respect, sure, lot, memorable, q...</td>\n",
              "    </tr>\n",
              "    <tr>\n",
              "      <th>1</th>\n",
              "      <td>bizarre horror movie filled with famous faces ...</td>\n",
              "      <td>0</td>\n",
              "      <td>[bizarre, horror, movie, filled, with, famous,...</td>\n",
              "      <td>[bizarre, horror, movie, filled, famous, faces...</td>\n",
              "    </tr>\n",
              "    <tr>\n",
              "      <th>2</th>\n",
              "      <td>a solid if unremarkable film matthau as einste...</td>\n",
              "      <td>0</td>\n",
              "      <td>[a, solid, if, unremarkable, film, matthau, as...</td>\n",
              "      <td>[solid, unremarkable, film, matthau, einstein,...</td>\n",
              "    </tr>\n",
              "    <tr>\n",
              "      <th>3</th>\n",
              "      <td>its a strange feeling to sit alone in a theate...</td>\n",
              "      <td>0</td>\n",
              "      <td>[its, a, strange, feeling, to, sit, alone, in,...</td>\n",
              "      <td>[strange, feeling, sit, alone, theater, occupi...</td>\n",
              "    </tr>\n",
              "    <tr>\n",
              "      <th>4</th>\n",
              "      <td>you probably all already know this by now but ...</td>\n",
              "      <td>0</td>\n",
              "      <td>[you, probably, all, already, know, this, by, ...</td>\n",
              "      <td>[probably, already, know, additional, episodes...</td>\n",
              "    </tr>\n",
              "  </tbody>\n",
              "</table>\n",
              "</div>\n",
              "      <button class=\"colab-df-convert\" onclick=\"convertToInteractive('df-c54b8e52-ba09-431e-bfe5-6eae96a1ce68')\"\n",
              "              title=\"Convert this dataframe to an interactive table.\"\n",
              "              style=\"display:none;\">\n",
              "        \n",
              "  <svg xmlns=\"http://www.w3.org/2000/svg\" height=\"24px\"viewBox=\"0 0 24 24\"\n",
              "       width=\"24px\">\n",
              "    <path d=\"M0 0h24v24H0V0z\" fill=\"none\"/>\n",
              "    <path d=\"M18.56 5.44l.94 2.06.94-2.06 2.06-.94-2.06-.94-.94-2.06-.94 2.06-2.06.94zm-11 1L8.5 8.5l.94-2.06 2.06-.94-2.06-.94L8.5 2.5l-.94 2.06-2.06.94zm10 10l.94 2.06.94-2.06 2.06-.94-2.06-.94-.94-2.06-.94 2.06-2.06.94z\"/><path d=\"M17.41 7.96l-1.37-1.37c-.4-.4-.92-.59-1.43-.59-.52 0-1.04.2-1.43.59L10.3 9.45l-7.72 7.72c-.78.78-.78 2.05 0 2.83L4 21.41c.39.39.9.59 1.41.59.51 0 1.02-.2 1.41-.59l7.78-7.78 2.81-2.81c.8-.78.8-2.07 0-2.86zM5.41 20L4 18.59l7.72-7.72 1.47 1.35L5.41 20z\"/>\n",
              "  </svg>\n",
              "      </button>\n",
              "      \n",
              "  <style>\n",
              "    .colab-df-container {\n",
              "      display:flex;\n",
              "      flex-wrap:wrap;\n",
              "      gap: 12px;\n",
              "    }\n",
              "\n",
              "    .colab-df-convert {\n",
              "      background-color: #E8F0FE;\n",
              "      border: none;\n",
              "      border-radius: 50%;\n",
              "      cursor: pointer;\n",
              "      display: none;\n",
              "      fill: #1967D2;\n",
              "      height: 32px;\n",
              "      padding: 0 0 0 0;\n",
              "      width: 32px;\n",
              "    }\n",
              "\n",
              "    .colab-df-convert:hover {\n",
              "      background-color: #E2EBFA;\n",
              "      box-shadow: 0px 1px 2px rgba(60, 64, 67, 0.3), 0px 1px 3px 1px rgba(60, 64, 67, 0.15);\n",
              "      fill: #174EA6;\n",
              "    }\n",
              "\n",
              "    [theme=dark] .colab-df-convert {\n",
              "      background-color: #3B4455;\n",
              "      fill: #D2E3FC;\n",
              "    }\n",
              "\n",
              "    [theme=dark] .colab-df-convert:hover {\n",
              "      background-color: #434B5C;\n",
              "      box-shadow: 0px 1px 3px 1px rgba(0, 0, 0, 0.15);\n",
              "      filter: drop-shadow(0px 1px 2px rgba(0, 0, 0, 0.3));\n",
              "      fill: #FFFFFF;\n",
              "    }\n",
              "  </style>\n",
              "\n",
              "      <script>\n",
              "        const buttonEl =\n",
              "          document.querySelector('#df-c54b8e52-ba09-431e-bfe5-6eae96a1ce68 button.colab-df-convert');\n",
              "        buttonEl.style.display =\n",
              "          google.colab.kernel.accessAllowed ? 'block' : 'none';\n",
              "\n",
              "        async function convertToInteractive(key) {\n",
              "          const element = document.querySelector('#df-c54b8e52-ba09-431e-bfe5-6eae96a1ce68');\n",
              "          const dataTable =\n",
              "            await google.colab.kernel.invokeFunction('convertToInteractive',\n",
              "                                                     [key], {});\n",
              "          if (!dataTable) return;\n",
              "\n",
              "          const docLinkHtml = 'Like what you see? Visit the ' +\n",
              "            '<a target=\"_blank\" href=https://colab.research.google.com/notebooks/data_table.ipynb>data table notebook</a>'\n",
              "            + ' to learn more about interactive tables.';\n",
              "          element.innerHTML = '';\n",
              "          dataTable['output_type'] = 'display_data';\n",
              "          await google.colab.output.renderOutput(dataTable, element);\n",
              "          const docLink = document.createElement('div');\n",
              "          docLink.innerHTML = docLinkHtml;\n",
              "          element.appendChild(docLink);\n",
              "        }\n",
              "      </script>\n",
              "    </div>\n",
              "  </div>\n",
              "  "
            ]
          },
          "metadata": {},
          "execution_count": 13
        }
      ],
      "source": [
        "#stop words\n",
        "from nltk.corpus import stopwords\n",
        "nltk.download('stopwords')\n",
        "\n",
        "stop = stopwords.words('english')\n",
        "df['stop'] = df['tokens'].apply(lambda x: [word for word in x if (word not in stop)])\n",
        "\n",
        "df.head()"
      ]
    },
    {
      "cell_type": "code",
      "execution_count": null,
      "metadata": {
        "colab": {
          "base_uri": "https://localhost:8080/"
        },
        "id": "LNlmNBBNYQ30",
        "outputId": "eca573d8-52e1-48d2-daa5-bee1ae1053c4"
      },
      "outputs": [
        {
          "output_type": "stream",
          "name": "stderr",
          "text": [
            "[nltk_data] Downloading package omw-1.4 to /root/nltk_data...\n",
            "[nltk_data]   Unzipping corpora/omw-1.4.zip.\n"
          ]
        },
        {
          "output_type": "execute_result",
          "data": {
            "text/plain": [
              "True"
            ]
          },
          "metadata": {},
          "execution_count": 14
        }
      ],
      "source": [
        "nltk.download('omw-1.4')"
      ]
    },
    {
      "cell_type": "code",
      "execution_count": null,
      "metadata": {
        "colab": {
          "base_uri": "https://localhost:8080/"
        },
        "id": "Mrz9QPmCmzFy",
        "outputId": "f1e1b6f4-1f4b-42c3-e863-22ccf5715b42"
      },
      "outputs": [
        {
          "output_type": "stream",
          "name": "stderr",
          "text": [
            "[nltk_data] Downloading package wordnet to /root/nltk_data...\n",
            "[nltk_data]   Unzipping corpora/wordnet.zip.\n",
            "[nltk_data] Downloading package omw-1.4 to /root/nltk_data...\n",
            "[nltk_data]   Package omw-1.4 is already up-to-date!\n",
            "/usr/local/lib/python3.7/dist-packages/ipykernel_launcher.py:11: SettingWithCopyWarning: \n",
            "A value is trying to be set on a copy of a slice from a DataFrame\n",
            "\n",
            "See the caveats in the documentation: https://pandas.pydata.org/pandas-docs/stable/user_guide/indexing.html#returning-a-view-versus-a-copy\n",
            "  # This is added back by InteractiveShellApp.init_path()\n"
          ]
        },
        {
          "output_type": "execute_result",
          "data": {
            "text/plain": [
              "                                                text  sentiment  \\\n",
              "0  for a movie that gets no respect there sure ar...          0   \n",
              "1  bizarre horror movie filled with famous faces ...          0   \n",
              "2  a solid if unremarkable film matthau as einste...          0   \n",
              "3  its a strange feeling to sit alone in a theate...          0   \n",
              "4  you probably all already know this by now but ...          0   \n",
              "\n",
              "                                              tokens  \\\n",
              "0  [for, a, movie, that, gets, no, respect, there...   \n",
              "1  [bizarre, horror, movie, filled, with, famous,...   \n",
              "2  [a, solid, if, unremarkable, film, matthau, as...   \n",
              "3  [its, a, strange, feeling, to, sit, alone, in,...   \n",
              "4  [you, probably, all, already, know, this, by, ...   \n",
              "\n",
              "                                                stop  \\\n",
              "0  [movie, gets, respect, sure, lot, memorable, q...   \n",
              "1  [bizarre, horror, movie, filled, famous, faces...   \n",
              "2  [solid, unremarkable, film, matthau, einstein,...   \n",
              "3  [strange, feeling, sit, alone, theater, occupi...   \n",
              "4  [probably, already, know, additional, episodes...   \n",
              "\n",
              "                                               lemon  \n",
              "0  [movie, get, respect, sure, lot, memorable, qu...  \n",
              "1  [bizarre, horror, movie, filled, famous, face,...  \n",
              "2  [solid, unremarkable, film, matthau, einstein,...  \n",
              "3  [strange, feeling, sit, alone, theater, occupi...  \n",
              "4  [probably, already, know, additional, episode,...  "
            ],
            "text/html": [
              "\n",
              "  <div id=\"df-842b4d52-f392-4b55-8f4d-e530c0db5827\">\n",
              "    <div class=\"colab-df-container\">\n",
              "      <div>\n",
              "<style scoped>\n",
              "    .dataframe tbody tr th:only-of-type {\n",
              "        vertical-align: middle;\n",
              "    }\n",
              "\n",
              "    .dataframe tbody tr th {\n",
              "        vertical-align: top;\n",
              "    }\n",
              "\n",
              "    .dataframe thead th {\n",
              "        text-align: right;\n",
              "    }\n",
              "</style>\n",
              "<table border=\"1\" class=\"dataframe\">\n",
              "  <thead>\n",
              "    <tr style=\"text-align: right;\">\n",
              "      <th></th>\n",
              "      <th>text</th>\n",
              "      <th>sentiment</th>\n",
              "      <th>tokens</th>\n",
              "      <th>stop</th>\n",
              "      <th>lemon</th>\n",
              "    </tr>\n",
              "  </thead>\n",
              "  <tbody>\n",
              "    <tr>\n",
              "      <th>0</th>\n",
              "      <td>for a movie that gets no respect there sure ar...</td>\n",
              "      <td>0</td>\n",
              "      <td>[for, a, movie, that, gets, no, respect, there...</td>\n",
              "      <td>[movie, gets, respect, sure, lot, memorable, q...</td>\n",
              "      <td>[movie, get, respect, sure, lot, memorable, qu...</td>\n",
              "    </tr>\n",
              "    <tr>\n",
              "      <th>1</th>\n",
              "      <td>bizarre horror movie filled with famous faces ...</td>\n",
              "      <td>0</td>\n",
              "      <td>[bizarre, horror, movie, filled, with, famous,...</td>\n",
              "      <td>[bizarre, horror, movie, filled, famous, faces...</td>\n",
              "      <td>[bizarre, horror, movie, filled, famous, face,...</td>\n",
              "    </tr>\n",
              "    <tr>\n",
              "      <th>2</th>\n",
              "      <td>a solid if unremarkable film matthau as einste...</td>\n",
              "      <td>0</td>\n",
              "      <td>[a, solid, if, unremarkable, film, matthau, as...</td>\n",
              "      <td>[solid, unremarkable, film, matthau, einstein,...</td>\n",
              "      <td>[solid, unremarkable, film, matthau, einstein,...</td>\n",
              "    </tr>\n",
              "    <tr>\n",
              "      <th>3</th>\n",
              "      <td>its a strange feeling to sit alone in a theate...</td>\n",
              "      <td>0</td>\n",
              "      <td>[its, a, strange, feeling, to, sit, alone, in,...</td>\n",
              "      <td>[strange, feeling, sit, alone, theater, occupi...</td>\n",
              "      <td>[strange, feeling, sit, alone, theater, occupi...</td>\n",
              "    </tr>\n",
              "    <tr>\n",
              "      <th>4</th>\n",
              "      <td>you probably all already know this by now but ...</td>\n",
              "      <td>0</td>\n",
              "      <td>[you, probably, all, already, know, this, by, ...</td>\n",
              "      <td>[probably, already, know, additional, episodes...</td>\n",
              "      <td>[probably, already, know, additional, episode,...</td>\n",
              "    </tr>\n",
              "  </tbody>\n",
              "</table>\n",
              "</div>\n",
              "      <button class=\"colab-df-convert\" onclick=\"convertToInteractive('df-842b4d52-f392-4b55-8f4d-e530c0db5827')\"\n",
              "              title=\"Convert this dataframe to an interactive table.\"\n",
              "              style=\"display:none;\">\n",
              "        \n",
              "  <svg xmlns=\"http://www.w3.org/2000/svg\" height=\"24px\"viewBox=\"0 0 24 24\"\n",
              "       width=\"24px\">\n",
              "    <path d=\"M0 0h24v24H0V0z\" fill=\"none\"/>\n",
              "    <path d=\"M18.56 5.44l.94 2.06.94-2.06 2.06-.94-2.06-.94-.94-2.06-.94 2.06-2.06.94zm-11 1L8.5 8.5l.94-2.06 2.06-.94-2.06-.94L8.5 2.5l-.94 2.06-2.06.94zm10 10l.94 2.06.94-2.06 2.06-.94-2.06-.94-.94-2.06-.94 2.06-2.06.94z\"/><path d=\"M17.41 7.96l-1.37-1.37c-.4-.4-.92-.59-1.43-.59-.52 0-1.04.2-1.43.59L10.3 9.45l-7.72 7.72c-.78.78-.78 2.05 0 2.83L4 21.41c.39.39.9.59 1.41.59.51 0 1.02-.2 1.41-.59l7.78-7.78 2.81-2.81c.8-.78.8-2.07 0-2.86zM5.41 20L4 18.59l7.72-7.72 1.47 1.35L5.41 20z\"/>\n",
              "  </svg>\n",
              "      </button>\n",
              "      \n",
              "  <style>\n",
              "    .colab-df-container {\n",
              "      display:flex;\n",
              "      flex-wrap:wrap;\n",
              "      gap: 12px;\n",
              "    }\n",
              "\n",
              "    .colab-df-convert {\n",
              "      background-color: #E8F0FE;\n",
              "      border: none;\n",
              "      border-radius: 50%;\n",
              "      cursor: pointer;\n",
              "      display: none;\n",
              "      fill: #1967D2;\n",
              "      height: 32px;\n",
              "      padding: 0 0 0 0;\n",
              "      width: 32px;\n",
              "    }\n",
              "\n",
              "    .colab-df-convert:hover {\n",
              "      background-color: #E2EBFA;\n",
              "      box-shadow: 0px 1px 2px rgba(60, 64, 67, 0.3), 0px 1px 3px 1px rgba(60, 64, 67, 0.15);\n",
              "      fill: #174EA6;\n",
              "    }\n",
              "\n",
              "    [theme=dark] .colab-df-convert {\n",
              "      background-color: #3B4455;\n",
              "      fill: #D2E3FC;\n",
              "    }\n",
              "\n",
              "    [theme=dark] .colab-df-convert:hover {\n",
              "      background-color: #434B5C;\n",
              "      box-shadow: 0px 1px 3px 1px rgba(0, 0, 0, 0.15);\n",
              "      filter: drop-shadow(0px 1px 2px rgba(0, 0, 0, 0.3));\n",
              "      fill: #FFFFFF;\n",
              "    }\n",
              "  </style>\n",
              "\n",
              "      <script>\n",
              "        const buttonEl =\n",
              "          document.querySelector('#df-842b4d52-f392-4b55-8f4d-e530c0db5827 button.colab-df-convert');\n",
              "        buttonEl.style.display =\n",
              "          google.colab.kernel.accessAllowed ? 'block' : 'none';\n",
              "\n",
              "        async function convertToInteractive(key) {\n",
              "          const element = document.querySelector('#df-842b4d52-f392-4b55-8f4d-e530c0db5827');\n",
              "          const dataTable =\n",
              "            await google.colab.kernel.invokeFunction('convertToInteractive',\n",
              "                                                     [key], {});\n",
              "          if (!dataTable) return;\n",
              "\n",
              "          const docLinkHtml = 'Like what you see? Visit the ' +\n",
              "            '<a target=\"_blank\" href=https://colab.research.google.com/notebooks/data_table.ipynb>data table notebook</a>'\n",
              "            + ' to learn more about interactive tables.';\n",
              "          element.innerHTML = '';\n",
              "          dataTable['output_type'] = 'display_data';\n",
              "          await google.colab.output.renderOutput(dataTable, element);\n",
              "          const docLink = document.createElement('div');\n",
              "          docLink.innerHTML = docLinkHtml;\n",
              "          element.appendChild(docLink);\n",
              "        }\n",
              "      </script>\n",
              "    </div>\n",
              "  </div>\n",
              "  "
            ]
          },
          "metadata": {},
          "execution_count": 15
        }
      ],
      "source": [
        "# lemmatization\n",
        "from nltk.stem import WordNetLemmatizer\n",
        "nltk.download('wordnet')\n",
        "nltk.download('omw-1.4')\n",
        "\n",
        "lemon = WordNetLemmatizer()\n",
        "df['lemon'] = ''\n",
        "\n",
        "text2 = df['stop'].values\n",
        "for ind,text in enumerate(text2):\n",
        "  df['lemon'][ind]  = [lemon.lemmatize(t) for t in text]\n",
        "\n",
        "\n",
        "df.head()"
      ]
    },
    {
      "cell_type": "code",
      "execution_count": null,
      "metadata": {
        "id": "Y0d4OJGgXiJI"
      },
      "outputs": [],
      "source": [
        "def make_bigram(df_col):\n",
        "  new_list = []\n",
        "  for word1, word2 in zip(df_col, df_col[1:]):\n",
        "    bigram = word1 + \" \" + word2\n",
        "    new_list.append( bigram )\n",
        "  return new_list"
      ]
    },
    {
      "cell_type": "code",
      "execution_count": null,
      "metadata": {
        "colab": {
          "base_uri": "https://localhost:8080/"
        },
        "id": "e5YDGAF-6PpZ",
        "outputId": "c7eab192-2575-4404-bf0e-7412256bdf44"
      },
      "outputs": [
        {
          "output_type": "execute_result",
          "data": {
            "text/plain": [
              "                                                text  sentiment  \\\n",
              "0  for a movie that gets no respect there sure ar...          0   \n",
              "1  bizarre horror movie filled with famous faces ...          0   \n",
              "2  a solid if unremarkable film matthau as einste...          0   \n",
              "3  its a strange feeling to sit alone in a theate...          0   \n",
              "4  you probably all already know this by now but ...          0   \n",
              "\n",
              "                                              tokens  \\\n",
              "0  [for, a, movie, that, gets, no, respect, there...   \n",
              "1  [bizarre, horror, movie, filled, with, famous,...   \n",
              "2  [a, solid, if, unremarkable, film, matthau, as...   \n",
              "3  [its, a, strange, feeling, to, sit, alone, in,...   \n",
              "4  [you, probably, all, already, know, this, by, ...   \n",
              "\n",
              "                                                stop  \\\n",
              "0  [movie, gets, respect, sure, lot, memorable, q...   \n",
              "1  [bizarre, horror, movie, filled, famous, faces...   \n",
              "2  [solid, unremarkable, film, matthau, einstein,...   \n",
              "3  [strange, feeling, sit, alone, theater, occupi...   \n",
              "4  [probably, already, know, additional, episodes...   \n",
              "\n",
              "                                               lemon  \\\n",
              "0  [movie, get, respect, sure, lot, memorable, qu...   \n",
              "1  [bizarre, horror, movie, filled, famous, face,...   \n",
              "2  [solid, unremarkable, film, matthau, einstein,...   \n",
              "3  [strange, feeling, sit, alone, theater, occupi...   \n",
              "4  [probably, already, know, additional, episode,...   \n",
              "\n",
              "                                             bigrams  \n",
              "0  [movie get, get respect, respect sure, sure lo...  \n",
              "1  [bizarre horror, horror movie, movie filled, f...  \n",
              "2  [solid unremarkable, unremarkable film, film m...  \n",
              "3  [strange feeling, feeling sit, sit alone, alon...  \n",
              "4  [probably already, already know, know addition...  "
            ],
            "text/html": [
              "\n",
              "  <div id=\"df-d2d9884c-7ec9-4b29-9850-b424cbe7dcd2\">\n",
              "    <div class=\"colab-df-container\">\n",
              "      <div>\n",
              "<style scoped>\n",
              "    .dataframe tbody tr th:only-of-type {\n",
              "        vertical-align: middle;\n",
              "    }\n",
              "\n",
              "    .dataframe tbody tr th {\n",
              "        vertical-align: top;\n",
              "    }\n",
              "\n",
              "    .dataframe thead th {\n",
              "        text-align: right;\n",
              "    }\n",
              "</style>\n",
              "<table border=\"1\" class=\"dataframe\">\n",
              "  <thead>\n",
              "    <tr style=\"text-align: right;\">\n",
              "      <th></th>\n",
              "      <th>text</th>\n",
              "      <th>sentiment</th>\n",
              "      <th>tokens</th>\n",
              "      <th>stop</th>\n",
              "      <th>lemon</th>\n",
              "      <th>bigrams</th>\n",
              "    </tr>\n",
              "  </thead>\n",
              "  <tbody>\n",
              "    <tr>\n",
              "      <th>0</th>\n",
              "      <td>for a movie that gets no respect there sure ar...</td>\n",
              "      <td>0</td>\n",
              "      <td>[for, a, movie, that, gets, no, respect, there...</td>\n",
              "      <td>[movie, gets, respect, sure, lot, memorable, q...</td>\n",
              "      <td>[movie, get, respect, sure, lot, memorable, qu...</td>\n",
              "      <td>[movie get, get respect, respect sure, sure lo...</td>\n",
              "    </tr>\n",
              "    <tr>\n",
              "      <th>1</th>\n",
              "      <td>bizarre horror movie filled with famous faces ...</td>\n",
              "      <td>0</td>\n",
              "      <td>[bizarre, horror, movie, filled, with, famous,...</td>\n",
              "      <td>[bizarre, horror, movie, filled, famous, faces...</td>\n",
              "      <td>[bizarre, horror, movie, filled, famous, face,...</td>\n",
              "      <td>[bizarre horror, horror movie, movie filled, f...</td>\n",
              "    </tr>\n",
              "    <tr>\n",
              "      <th>2</th>\n",
              "      <td>a solid if unremarkable film matthau as einste...</td>\n",
              "      <td>0</td>\n",
              "      <td>[a, solid, if, unremarkable, film, matthau, as...</td>\n",
              "      <td>[solid, unremarkable, film, matthau, einstein,...</td>\n",
              "      <td>[solid, unremarkable, film, matthau, einstein,...</td>\n",
              "      <td>[solid unremarkable, unremarkable film, film m...</td>\n",
              "    </tr>\n",
              "    <tr>\n",
              "      <th>3</th>\n",
              "      <td>its a strange feeling to sit alone in a theate...</td>\n",
              "      <td>0</td>\n",
              "      <td>[its, a, strange, feeling, to, sit, alone, in,...</td>\n",
              "      <td>[strange, feeling, sit, alone, theater, occupi...</td>\n",
              "      <td>[strange, feeling, sit, alone, theater, occupi...</td>\n",
              "      <td>[strange feeling, feeling sit, sit alone, alon...</td>\n",
              "    </tr>\n",
              "    <tr>\n",
              "      <th>4</th>\n",
              "      <td>you probably all already know this by now but ...</td>\n",
              "      <td>0</td>\n",
              "      <td>[you, probably, all, already, know, this, by, ...</td>\n",
              "      <td>[probably, already, know, additional, episodes...</td>\n",
              "      <td>[probably, already, know, additional, episode,...</td>\n",
              "      <td>[probably already, already know, know addition...</td>\n",
              "    </tr>\n",
              "  </tbody>\n",
              "</table>\n",
              "</div>\n",
              "      <button class=\"colab-df-convert\" onclick=\"convertToInteractive('df-d2d9884c-7ec9-4b29-9850-b424cbe7dcd2')\"\n",
              "              title=\"Convert this dataframe to an interactive table.\"\n",
              "              style=\"display:none;\">\n",
              "        \n",
              "  <svg xmlns=\"http://www.w3.org/2000/svg\" height=\"24px\"viewBox=\"0 0 24 24\"\n",
              "       width=\"24px\">\n",
              "    <path d=\"M0 0h24v24H0V0z\" fill=\"none\"/>\n",
              "    <path d=\"M18.56 5.44l.94 2.06.94-2.06 2.06-.94-2.06-.94-.94-2.06-.94 2.06-2.06.94zm-11 1L8.5 8.5l.94-2.06 2.06-.94-2.06-.94L8.5 2.5l-.94 2.06-2.06.94zm10 10l.94 2.06.94-2.06 2.06-.94-2.06-.94-.94-2.06-.94 2.06-2.06.94z\"/><path d=\"M17.41 7.96l-1.37-1.37c-.4-.4-.92-.59-1.43-.59-.52 0-1.04.2-1.43.59L10.3 9.45l-7.72 7.72c-.78.78-.78 2.05 0 2.83L4 21.41c.39.39.9.59 1.41.59.51 0 1.02-.2 1.41-.59l7.78-7.78 2.81-2.81c.8-.78.8-2.07 0-2.86zM5.41 20L4 18.59l7.72-7.72 1.47 1.35L5.41 20z\"/>\n",
              "  </svg>\n",
              "      </button>\n",
              "      \n",
              "  <style>\n",
              "    .colab-df-container {\n",
              "      display:flex;\n",
              "      flex-wrap:wrap;\n",
              "      gap: 12px;\n",
              "    }\n",
              "\n",
              "    .colab-df-convert {\n",
              "      background-color: #E8F0FE;\n",
              "      border: none;\n",
              "      border-radius: 50%;\n",
              "      cursor: pointer;\n",
              "      display: none;\n",
              "      fill: #1967D2;\n",
              "      height: 32px;\n",
              "      padding: 0 0 0 0;\n",
              "      width: 32px;\n",
              "    }\n",
              "\n",
              "    .colab-df-convert:hover {\n",
              "      background-color: #E2EBFA;\n",
              "      box-shadow: 0px 1px 2px rgba(60, 64, 67, 0.3), 0px 1px 3px 1px rgba(60, 64, 67, 0.15);\n",
              "      fill: #174EA6;\n",
              "    }\n",
              "\n",
              "    [theme=dark] .colab-df-convert {\n",
              "      background-color: #3B4455;\n",
              "      fill: #D2E3FC;\n",
              "    }\n",
              "\n",
              "    [theme=dark] .colab-df-convert:hover {\n",
              "      background-color: #434B5C;\n",
              "      box-shadow: 0px 1px 3px 1px rgba(0, 0, 0, 0.15);\n",
              "      filter: drop-shadow(0px 1px 2px rgba(0, 0, 0, 0.3));\n",
              "      fill: #FFFFFF;\n",
              "    }\n",
              "  </style>\n",
              "\n",
              "      <script>\n",
              "        const buttonEl =\n",
              "          document.querySelector('#df-d2d9884c-7ec9-4b29-9850-b424cbe7dcd2 button.colab-df-convert');\n",
              "        buttonEl.style.display =\n",
              "          google.colab.kernel.accessAllowed ? 'block' : 'none';\n",
              "\n",
              "        async function convertToInteractive(key) {\n",
              "          const element = document.querySelector('#df-d2d9884c-7ec9-4b29-9850-b424cbe7dcd2');\n",
              "          const dataTable =\n",
              "            await google.colab.kernel.invokeFunction('convertToInteractive',\n",
              "                                                     [key], {});\n",
              "          if (!dataTable) return;\n",
              "\n",
              "          const docLinkHtml = 'Like what you see? Visit the ' +\n",
              "            '<a target=\"_blank\" href=https://colab.research.google.com/notebooks/data_table.ipynb>data table notebook</a>'\n",
              "            + ' to learn more about interactive tables.';\n",
              "          element.innerHTML = '';\n",
              "          dataTable['output_type'] = 'display_data';\n",
              "          await google.colab.output.renderOutput(dataTable, element);\n",
              "          const docLink = document.createElement('div');\n",
              "          docLink.innerHTML = docLinkHtml;\n",
              "          element.appendChild(docLink);\n",
              "        }\n",
              "      </script>\n",
              "    </div>\n",
              "  </div>\n",
              "  "
            ]
          },
          "metadata": {},
          "execution_count": 17
        }
      ],
      "source": [
        "df['bigrams'] = (df['lemon']).apply(make_bigram)\n",
        "df.head()"
      ]
    },
    {
      "cell_type": "markdown",
      "metadata": {
        "id": "MgJOL07Z6rPG"
      },
      "source": [
        "### Word clouds"
      ]
    },
    {
      "cell_type": "code",
      "execution_count": null,
      "metadata": {
        "id": "TUooXQJN7vGi"
      },
      "outputs": [],
      "source": [
        "# divide for postivie and negative reviews\n",
        "\n",
        "df_pos = df[df['sentiment']==1]\n",
        "df_neg = df[df['sentiment']==0]\n",
        "\n",
        "df_pos"
      ]
    },
    {
      "cell_type": "code",
      "execution_count": null,
      "metadata": {
        "id": "hawOtXwAYSDB"
      },
      "outputs": [],
      "source": [
        "pos_bigrams = df_pos['bigrams'].sum()\n",
        "neg_bigrams = df_neg['bigrams'].sum()\n",
        "neg_words = df_neg['counter'].sum()\n",
        "pos_words = df_pos['counter'].sum()"
      ]
    },
    {
      "cell_type": "code",
      "execution_count": null,
      "metadata": {
        "id": "STrJBzme9LHY"
      },
      "outputs": [],
      "source": [
        "from wordcloud import WordCloud\n",
        "import matplotlib.pyplot as plt\n",
        "\n",
        "def plot_wordcloud(values, num_of_words):\n",
        "  wc = WordCloud(background_color=\"white\", \n",
        "                relative_scaling=0.5).generate_from_frequencies(dict(values.most_common(num_of_words)))\n",
        "  plt.figure(figsize=(10,8))\n",
        "  plt.imshow(wc)\n",
        "  plt.axis('off')\n",
        "  plt.show()\n",
        "\n",
        "plot_wordcloud(pos_words, 25)"
      ]
    },
    {
      "cell_type": "code",
      "execution_count": null,
      "metadata": {
        "id": "9mx4mwqtVlDN"
      },
      "outputs": [],
      "source": [
        "plot_wordcloud(pos_words, 100)"
      ]
    },
    {
      "cell_type": "code",
      "execution_count": null,
      "metadata": {
        "id": "Iu_QNWCPduC-"
      },
      "outputs": [],
      "source": [
        "plot_wordcloud(neg_words, 100)"
      ]
    },
    {
      "cell_type": "markdown",
      "metadata": {
        "id": "V2UtVKKCVEPM"
      },
      "source": [
        "### Preparing data for machine learning models"
      ]
    },
    {
      "cell_type": "code",
      "execution_count": null,
      "metadata": {
        "id": "gc-cZjrA4__R"
      },
      "outputs": [],
      "source": [
        "# TFIDF\n",
        "import pickle\n",
        "from sklearn.feature_extraction.text import TfidfVectorizer\n",
        "\n",
        "vectorizer = TfidfVectorizer(max_features = 1000,  max_df = 0.4, lowercase=False, preprocessor=' '.join)\n",
        "\n",
        "uni_vectorizer = vectorizer.fit(df['lemon'])\n",
        "pickle.dump(uni_vectorizer, open(\"uni_vectorizer.sav\", \"wb\"))\n",
        "\n",
        "\n",
        "X = vectorizer.fit_transform(df['lemon']).toarray()"
      ]
    },
    {
      "cell_type": "code",
      "source": [
        "def identity_tokenizer(text):\n",
        "    return text\n",
        "\n",
        "vectorizer = TfidfVectorizer(max_features = 1000,  max_df = 0.4, lowercase=False, tokenizer=identity_tokenizer) \n",
        "\n",
        "bi_vectorizer = vectorizer.fit_transform(df['bigrams'])\n",
        "# pickle.dump(bi_vectorizer, open(\"bi_vectorizer.sav\", \"wb\")\n",
        "\n",
        "\n",
        "X_bi = vectorizer.fit_transform(df['bigrams']).toarray()"
      ],
      "metadata": {
        "id": "-I3XixUahkpX"
      },
      "execution_count": null,
      "outputs": []
    },
    {
      "cell_type": "code",
      "execution_count": null,
      "metadata": {
        "id": "wstCi7GW_HYt"
      },
      "outputs": [],
      "source": [
        "# Diving dataset into train and test sets\n",
        "from sklearn import model_selection, preprocessing\n",
        "\n",
        "train_x, test_x, train_y, test_y = model_selection.train_test_split(X, df['sentiment'])\n",
        "train_x_bi, test_x_bi, train_y_bi, test_y_bi = model_selection.train_test_split(X_bi, df['sentiment'])"
      ]
    },
    {
      "cell_type": "markdown",
      "metadata": {
        "id": "dVHwQGCVCO7d"
      },
      "source": [
        "### Import libraries"
      ]
    },
    {
      "cell_type": "code",
      "execution_count": null,
      "metadata": {
        "id": "20Zey3jcAfZE"
      },
      "outputs": [],
      "source": [
        "from sklearn.linear_model import LogisticRegression\n",
        "from sklearn.metrics import accuracy_score\n",
        "from sklearn.model_selection import GridSearchCV\n",
        "from sklearn.naive_bayes import GaussianNB, MultinomialNB, ComplementNB, BernoulliNB\n",
        "from sklearn.neighbors import KNeighborsClassifier\n",
        "from sklearn.tree import DecisionTreeClassifier\n",
        "from sklearn.ensemble import BaggingClassifier, RandomForestClassifier\n",
        "from sklearn.multiclass import OneVsRestClassifier\n",
        "from sklearn.svm import SVC\n",
        "\n",
        "import seaborn as sns\n",
        "import matplotlib.pyplot as plt   \n",
        "from sklearn.metrics import confusion_matrix\n",
        "import numpy as np\n",
        "\n",
        "\n"
      ]
    },
    {
      "cell_type": "code",
      "source": [
        "def cm_plot(pred_y, test_y, classifier):\n",
        "  cm = confusion_matrix(pred_y, test_y) \n",
        "\n",
        "  ax = plt.subplot()\n",
        "  sns.heatmap(cm, annot=True, fmt='g', ax=ax)  \n",
        "\n",
        "  ax.set_xlabel('Predicted labels')\n",
        "  ax.set_ylabel('True labels')\n",
        "  ax.set_title(classifier)\n",
        "  ax.xaxis.set_ticklabels(['negative', 'postive'])\n",
        "  ax.yaxis.set_ticklabels(['negative', 'postive'])"
      ],
      "metadata": {
        "id": "2RYYYEHpobF4"
      },
      "execution_count": null,
      "outputs": []
    },
    {
      "cell_type": "markdown",
      "source": [
        "### Logistic regression\n"
      ],
      "metadata": {
        "id": "6bMwgzXwoUoV"
      }
    },
    {
      "cell_type": "code",
      "execution_count": null,
      "metadata": {
        "colab": {
          "base_uri": "https://localhost:8080/",
          "height": 330
        },
        "id": "9SIn2LyI0E9G",
        "outputId": "05042f48-1845-45cb-f1c6-5d9fc0c5767e"
      },
      "outputs": [
        {
          "output_type": "stream",
          "name": "stdout",
          "text": [
            "{'C': 1.0, 'penalty': 'l2'}\n",
            "Accuracy is equal 85.55%\n"
          ]
        },
        {
          "output_type": "display_data",
          "data": {
            "text/plain": [
              "<Figure size 432x288 with 2 Axes>"
            ],
            "image/png": "[encoded data removed]"
          },
          "metadata": {
            "needs_background": "light"
          }
        }
      ],
      "source": [
        "classifier = LogisticRegression()\n",
        "# param_grid = {'C' : [100, 10, 1.0, 0.1, 0.01],\n",
        "#               'solver' : ['newton-cg', 'lbfgs', 'liblinear'],\n",
        "#               'penalty' : ['l2', 'l1']}\n",
        "param_grid = {'C' : [1.0, 0.1,], 'penalty' : ['l2']}\n",
        "\n",
        "grid_search = GridSearchCV(classifier, param_grid)\n",
        "grid_search.fit(train_x,train_y)\n",
        "print(grid_search.best_params_)\n",
        "\n",
        "pred_y = grid_search.predict(test_x)\n",
        "accuracy = np.round(accuracy_score(test_y, pred_y),4)*100\n",
        "print(\"Accuracy is equal {}%\".format(accuracy))\n",
        "cm_plot(pred_y, test_y, \"Logistic Regression - unigrams\")\n",
        "\n",
        "pickle.dump(grid_search,open(\"logistic_uni.sav\", \"wb\"))"
      ]
    },
    {
      "cell_type": "code",
      "execution_count": null,
      "metadata": {
        "colab": {
          "base_uri": "https://localhost:8080/",
          "height": 957
        },
        "id": "raajaD2zBOks",
        "outputId": "db5b8aa1-ec2b-4ef9-f6bc-a76dc9b96366"
      },
      "outputs": [
        {
          "metadata": {
            "tags": null
          },
          "name": "stderr",
          "output_type": "stream",
          "text": [
            "/usr/local/lib/python3.7/dist-packages/sklearn/model_selection/_validation.py:372: FitFailedWarning: \n",
            "50 fits failed out of a total of 150.\n",
            "The score on these train-test partitions for these parameters will be set to nan.\n",
            "If these failures are not expected, you can try to debug them by setting error_score='raise'.\n",
            "\n",
            "Below are more details about the failures:\n",
            "--------------------------------------------------------------------------------\n",
            "25 fits failed with the following error:\n",
            "Traceback (most recent call last):\n",
            "  File \"/usr/local/lib/python3.7/dist-packages/sklearn/model_selection/_validation.py\", line 680, in _fit_and_score\n",
            "    estimator.fit(X_train, y_train, **fit_params)\n",
            "  File \"/usr/local/lib/python3.7/dist-packages/sklearn/linear_model/_logistic.py\", line 1461, in fit\n",
            "    solver = _check_solver(self.solver, self.penalty, self.dual)\n",
            "  File \"/usr/local/lib/python3.7/dist-packages/sklearn/linear_model/_logistic.py\", line 449, in _check_solver\n",
            "    % (solver, penalty)\n",
            "ValueError: Solver newton-cg supports only 'l2' or 'none' penalties, got l1 penalty.\n",
            "\n",
            "--------------------------------------------------------------------------------\n",
            "25 fits failed with the following error:\n",
            "Traceback (most recent call last):\n",
            "  File \"/usr/local/lib/python3.7/dist-packages/sklearn/model_selection/_validation.py\", line 680, in _fit_and_score\n",
            "    estimator.fit(X_train, y_train, **fit_params)\n",
            "  File \"/usr/local/lib/python3.7/dist-packages/sklearn/linear_model/_logistic.py\", line 1461, in fit\n",
            "    solver = _check_solver(self.solver, self.penalty, self.dual)\n",
            "  File \"/usr/local/lib/python3.7/dist-packages/sklearn/linear_model/_logistic.py\", line 449, in _check_solver\n",
            "    % (solver, penalty)\n",
            "ValueError: Solver lbfgs supports only 'l2' or 'none' penalties, got l1 penalty.\n",
            "\n",
            "  warnings.warn(some_fits_failed_message, FitFailedWarning)\n",
            "/usr/local/lib/python3.7/dist-packages/sklearn/model_selection/_search.py:972: UserWarning: One or more of the test scores are non-finite: [0.848      0.848      0.848             nan        nan 0.84805333\n",
            " 0.85034667 0.8504     0.85034667        nan        nan 0.84853333\n",
            " 0.85354667 0.85354667 0.85354667        nan        nan 0.85344\n",
            " 0.84346667 0.84346667 0.84368           nan        nan 0.80661333\n",
            " 0.82384    0.82384    0.82362667        nan        nan 0.61413333]\n",
            "  category=UserWarning,\n"
          ]
        },
        {
          "metadata": {
            "tags": null
          },
          "name": "stdout",
          "output_type": "stream",
          "text": [
            "{'C': 1.0, 'penalty': 'l2', 'solver': 'newton-cg'}\n",
            "Accuracy is equal 85.52%\n"
          ]
        },
        {
          "data": {
            "image/png": "[encoded data removed]",
            "text/plain": [
              "<Figure size 432x288 with 2 Axes>"
            ]
          },
          "metadata": {},
          "output_type": "display_data"
        }
      ],
      "source": [
        "classifier = LogisticRegression()\n",
        "param_grid = {'C' : [100, 10, 1.0, 0.1, 0.01],\n",
        "              'solver' : ['newton-cg', 'lbfgs', 'liblinear'],\n",
        "              'penalty' : ['l2', 'l1']}\n",
        "\n",
        "\n",
        "grid_search = GridSearchCV(classifier, param_grid)\n",
        "grid_search.fit(train_x_bi,train_y_bi)\n",
        "print(grid_search.best_params_)\n",
        "\n",
        "pred_y_bi = grid_search.predict(test_x_bi)\n",
        "accuracy = np.round(accuracy_score(test_y_bi, pred_y_bi),4)*100\n",
        "print(\"Accuracy is equal {}%\".format(accuracy))\n",
        "cm_plot(pred_y_bi, test_y_bi, \"Logistic Regression - unigrams\")\n",
        "\n",
        "pickle.dump(grid_search,open(\"logistic_uni.sav\", \"wb\"))"
      ]
    },
    {
      "cell_type": "markdown",
      "metadata": {
        "id": "KNzB_b1REi9B"
      },
      "source": [
        "### Naive-Bayes"
      ]
    },
    {
      "cell_type": "code",
      "source": [
        "classifier = GaussianNB()\n",
        "classifier.fit(train_x,train_y)\n",
        "pred_y = classifier.predict(test_x)\n",
        "\n",
        "accuracy = np.round(accuracy_score(test_y, pred_y),4)*100\n",
        "print(accuracy)\n",
        "cm_plot(pred_y, test_y, \"Naive-Bayes-Gauss - unigrams\")\n",
        "\n",
        "pickle.dump(grid_search,open(\"naive_gauss_uni.sav\", \"wb\"))"
      ],
      "metadata": {
        "colab": {
          "base_uri": "https://localhost:8080/",
          "height": 312
        },
        "id": "cYFhrRA5q7kL",
        "outputId": "319ea4ba-f5bd-4a40-c80c-3ddb519d8901"
      },
      "execution_count": null,
      "outputs": [
        {
          "output_type": "stream",
          "name": "stdout",
          "text": [
            "81.25\n"
          ]
        },
        {
          "output_type": "display_data",
          "data": {
            "text/plain": [
              "<Figure size 432x288 with 2 Axes>"
            ],
            "image/png": "[encoded data removed]"
          },
          "metadata": {
            "needs_background": "light"
          }
        }
      ]
    },
    {
      "cell_type": "code",
      "execution_count": null,
      "metadata": {
        "colab": {
          "base_uri": "https://localhost:8080/",
          "height": 312
        },
        "id": "QSOQHdQ0EmN9",
        "outputId": "2d9fe940-6f49-4a25-af5b-1dc58b2c290c"
      },
      "outputs": [
        {
          "output_type": "stream",
          "name": "stdout",
          "text": [
            "73.07000000000001\n"
          ]
        },
        {
          "output_type": "display_data",
          "data": {
            "text/plain": [
              "<Figure size 432x288 with 2 Axes>"
            ],
            "image/png": "[encoded data removed]"
          },
          "metadata": {
            "needs_background": "light"
          }
        }
      ],
      "source": [
        "classifier = GaussianNB()\n",
        "classifier.fit(train_x_bi,train_y_bi)\n",
        "pred_y_bi = classifier.predict(test_x_bi)\n",
        "\n",
        "accuracy = np.round(accuracy_score(test_y_bi, pred_y_bi),4)*100\n",
        "print(accuracy)\n",
        "cm_plot(pred_y, test_y, \"Naive-Bayes-Gauss - bigrams\")\n",
        "\n",
        "pickle.dump(grid_search,open(\"naive_gauss_bi.sav\", \"wb\"))"
      ]
    },
    {
      "cell_type": "code",
      "execution_count": null,
      "metadata": {
        "colab": {
          "base_uri": "https://localhost:8080/",
          "height": 330
        },
        "id": "xEty9TfLOYHz",
        "outputId": "76477b98-27fa-44f8-82a5-e29c49394956"
      },
      "outputs": [
        {
          "output_type": "stream",
          "name": "stdout",
          "text": [
            "{'alpha': 10}\n",
            "Accuracy is equal 83.25%\n"
          ]
        },
        {
          "output_type": "display_data",
          "data": {
            "text/plain": [
              "<Figure size 432x288 with 2 Axes>"
            ],
            "image/png": "[encoded data removed]"
          },
          "metadata": {
            "needs_background": "light"
          }
        }
      ],
      "source": [
        "classifier = MultinomialNB()\n",
        "param_grid = {'alpha': (10 ,5 ,3, 1, 0.5, 0.1, 0.01, 0.001, 0.0001) }\n",
        "\n",
        "grid_search = GridSearchCV(classifier, param_grid)\n",
        "grid_search.fit(train_x,train_y)\n",
        "print(grid_search.best_params_)\n",
        "\n",
        "pred_y = grid_search.predict(test_x)\n",
        "accuracy = np.round(accuracy_score(test_y, pred_y),4)*100\n",
        "print(\"Accuracy is equal {}%\".format(accuracy))\n",
        "cm_plot(pred_y, test_y, \"Naive-Bayes-MultinominalNB unigrams\")\n",
        "\n",
        "pickle.dump(grid_search,open(\"naive_uni.sav\", \"wb\"))"
      ]
    },
    {
      "cell_type": "code",
      "source": [
        "classifier = MultinomialNB()\n",
        "param_grid = {'alpha': (10 ,5 ,3, 1, 0.5, 0.1, 0.01, 0.001, 0.0001) }\n",
        "\n",
        "grid_search = GridSearchCV(classifier, param_grid)\n",
        "grid_search.fit(train_x_bi,train_y_bi)\n",
        "print(grid_search.best_params_)\n",
        "\n",
        "pred_y_bi = grid_search.predict(test_x_bi)\n",
        "accuracy = np.round(accuracy_score(test_y_bi, pred_y_bi),4)*100\n",
        "print(\"Accuracy is equal {}%\".format(accuracy))\n",
        "cm_plot(pred_y_bi, test_y_bi, \"Naive-Bayes-MultinominalNB bigrams\")\n",
        "\n",
        "pickle.dump(grid_search,open(\"naive_multi_bi.sav\", \"wb\"))"
      ],
      "metadata": {
        "colab": {
          "base_uri": "https://localhost:8080/",
          "height": 330
        },
        "id": "7ogjAVqsr3wY",
        "outputId": "48b32cd0-c8a3-4e16-e0ea-d62bdf9e3672"
      },
      "execution_count": null,
      "outputs": [
        {
          "output_type": "stream",
          "name": "stdout",
          "text": [
            "{'alpha': 3}\n",
            "Accuracy is equal 74.5%\n"
          ]
        },
        {
          "output_type": "display_data",
          "data": {
            "text/plain": [
              "<Figure size 432x288 with 2 Axes>"
            ],
            "image/png": "[encoded data removed]"
          },
          "metadata": {
            "needs_background": "light"
          }
        }
      ]
    },
    {
      "cell_type": "code",
      "execution_count": null,
      "metadata": {
        "colab": {
          "base_uri": "https://localhost:8080/",
          "height": 312
        },
        "id": "YN3dI6l5OZxE",
        "outputId": "5faecd05-d4b9-47cb-9fa9-b3280bfbef3f"
      },
      "outputs": [
        {
          "output_type": "stream",
          "name": "stdout",
          "text": [
            "83.74000000000001\n"
          ]
        },
        {
          "output_type": "display_data",
          "data": {
            "text/plain": [
              "<Figure size 432x288 with 2 Axes>"
            ],
            "image/png": "[encoded data removed]"
          },
          "metadata": {
            "needs_background": "light"
          }
        }
      ],
      "source": [
        "classifier = ComplementNB()\n",
        "classifier.fit(train_x,train_y)\n",
        "pred_y = classifier.predict(test_x)\n",
        "\n",
        "accuracy = np.round(accuracy_score(test_y, pred_y),4)*100\n",
        "print(accuracy)\n",
        "cm_plot(pred_y, test_y, \"Naive-Bayes-Complement - unigrams\")\n",
        "\n",
        "pickle.dump(grid_search,open(\"naive_complement_uni.sav\", \"wb\"))"
      ]
    },
    {
      "cell_type": "code",
      "execution_count": null,
      "metadata": {
        "colab": {
          "base_uri": "https://localhost:8080/",
          "height": 312
        },
        "id": "iXrX3e1GOrj1",
        "outputId": "1ecbf3d6-8f84-4860-86b6-67d919bea383"
      },
      "outputs": [
        {
          "output_type": "stream",
          "name": "stdout",
          "text": [
            "74.67\n"
          ]
        },
        {
          "output_type": "display_data",
          "data": {
            "text/plain": [
              "<Figure size 432x288 with 2 Axes>"
            ],
            "image/png": "[encoded data removed]"
          },
          "metadata": {
            "needs_background": "light"
          }
        }
      ],
      "source": [
        "classifier = ComplementNB()\n",
        "classifier.fit(train_x_bi,train_y_bi)\n",
        "pred_y_bi = classifier.predict(test_x_bi)\n",
        "\n",
        "accuracy = np.round(accuracy_score(test_y_bi, pred_y_bi),4)*100\n",
        "print(accuracy)\n",
        "cm_plot(pred_y_bi, test_y_bi, \"Naive-Bayes-Complement - bigrams\")\n",
        "\n",
        "pickle.dump(grid_search,open(\"naive_complement_bi.sav\", \"wb\"))"
      ]
    },
    {
      "cell_type": "code",
      "source": [
        "classifier = BernoulliNB()\n",
        "classifier.fit(train_x,train_y)\n",
        "pred_y = classifier.predict(test_x)\n",
        "\n",
        "accuracy = np.round(accuracy_score(test_y, pred_y),4)*100\n",
        "print(accuracy)\n",
        "cm_plot(pred_y, test_y, \"Naive-Bayes-Bernoulli - unigrams\")\n",
        "\n",
        "pickle.dump(grid_search,open(\"naive_bernoulli_uni.sav\", \"wb\"))"
      ],
      "metadata": {
        "colab": {
          "base_uri": "https://localhost:8080/",
          "height": 312
        },
        "id": "GJwkuwnRsgS_",
        "outputId": "f48aee00-d888-4ab1-e93d-c0b39c3affb2"
      },
      "execution_count": null,
      "outputs": [
        {
          "output_type": "stream",
          "name": "stdout",
          "text": [
            "82.75\n"
          ]
        },
        {
          "output_type": "display_data",
          "data": {
            "text/plain": [
              "<Figure size 432x288 with 2 Axes>"
            ],
            "image/png": "[encoded data removed]"
          },
          "metadata": {
            "needs_background": "light"
          }
        }
      ]
    },
    {
      "cell_type": "code",
      "execution_count": null,
      "metadata": {
        "colab": {
          "base_uri": "https://localhost:8080/",
          "height": 312
        },
        "id": "i_hmsqYWOoey",
        "outputId": "8621390c-7d17-4f42-a50b-53002fca1734"
      },
      "outputs": [
        {
          "output_type": "stream",
          "name": "stdout",
          "text": [
            "73.42\n"
          ]
        },
        {
          "output_type": "display_data",
          "data": {
            "text/plain": [
              "<Figure size 432x288 with 2 Axes>"
            ],
            "image/png": "[encoded data removed]"
          },
          "metadata": {
            "needs_background": "light"
          }
        }
      ],
      "source": [
        "classifier = BernoulliNB()\n",
        "classifier.fit(train_x_bi,train_y_bi)\n",
        "pred_y_bi = classifier.predict(test_x_bi)\n",
        "\n",
        "accuracy = np.round(accuracy_score(test_y_bi, pred_y_bi),4)*100\n",
        "print(accuracy)\n",
        "cm_plot(pred_y_bi, test_y_bi, \"Naive-Bayes-Bernoulli - bigrams\")\n",
        "\n",
        "pickle.dump(grid_search,open(\"naive_bernoulli_uni.sav\", \"wb\"))"
      ]
    },
    {
      "cell_type": "markdown",
      "metadata": {
        "id": "LWeIsc0LIDr3"
      },
      "source": [
        "### K-nearest neighbors"
      ]
    },
    {
      "cell_type": "code",
      "execution_count": null,
      "metadata": {
        "colab": {
          "base_uri": "https://localhost:8080/",
          "height": 330
        },
        "id": "XzH5w5jDE8Cm",
        "outputId": "292892f1-222c-4443-cc63-2cd60c8fa97c"
      },
      "outputs": [
        {
          "output_type": "stream",
          "name": "stdout",
          "text": [
            "{'n_neighbors': 220}\n",
            "Accuracy is equal 80.47999999999999%\n"
          ]
        },
        {
          "output_type": "display_data",
          "data": {
            "text/plain": [
              "<Figure size 432x288 with 2 Axes>"
            ],
            "image/png": "[encoded data removed]"
          },
          "metadata": {
            "needs_background": "light"
          }
        }
      ],
      "source": [
        "classifier = KNeighborsClassifier()\n",
        "param_grid = {'n_neighbors':np.arange(10,250,10)}\n",
        "\n",
        "grid_search = GridSearchCV(classifier, param_grid)\n",
        "grid_search.fit(train_x,train_y)\n",
        "print(grid_search.best_params_)\n",
        "\n",
        "pred_y = grid_search.predict(test_x)\n",
        "accuracy = np.round(accuracy_score(test_y, pred_y),4)*100\n",
        "print(\"Accuracy is equal {}%\".format(accuracy))\n",
        "cm_plot(pred_y, test_y, \"K-nearest neighbors - unigrams\")\n",
        "\n",
        "pickle.dump(grid_search,open(\"knn_uni.sav\", \"wb\"))"
      ]
    },
    {
      "cell_type": "code",
      "source": [
        "classifier = KNeighborsClassifier()\n",
        "param_grid = {'n_neighbors':np.arange(10,250,10)}\n",
        "\n",
        "grid_search = GridSearchCV(classifier, param_grid)\n",
        "grid_search.fit(train_x_bi,train_y_bi)\n",
        "print(grid_search.best_params_)\n",
        "\n",
        "pred_y_bi = grid_search.predict(test_x_bi)\n",
        "accuracy = np.round(accuracy_score(test_y_bi, pred_y_bi),4)*100\n",
        "print(\"Accuracy is equal {}%\".format(accuracy))\n",
        "cm_plot(pred_y_bi, test_y_bi, \"K-nearest neighbors - bigrams\")\n",
        "\n",
        "pickle.dump(grid_search,open(\"knn_bi.sav\", \"wb\"))"
      ],
      "metadata": {
        "colab": {
          "base_uri": "https://localhost:8080/",
          "height": 330
        },
        "id": "g6DI2ErytDfP",
        "outputId": "6a8b4ba6-7cf1-41bc-a625-92a4b3c50146"
      },
      "execution_count": null,
      "outputs": [
        {
          "output_type": "stream",
          "name": "stdout",
          "text": [
            "{'n_neighbors': 10}\n",
            "Accuracy is equal 53.25%\n"
          ]
        },
        {
          "output_type": "display_data",
          "data": {
            "text/plain": [
              "<Figure size 432x288 with 2 Axes>"
            ],
            "image/png": "[encoded data removed]"
          },
          "metadata": {
            "needs_background": "light"
          }
        }
      ]
    },
    {
      "cell_type": "markdown",
      "metadata": {
        "id": "-80Zpar1IK5A"
      },
      "source": [
        "### Decsion Tree"
      ]
    },
    {
      "cell_type": "code",
      "execution_count": null,
      "metadata": {
        "colab": {
          "base_uri": "https://localhost:8080/",
          "height": 313
        },
        "id": "eEzkepYZft9W",
        "outputId": "f565b572-f50b-4f2b-f66e-6443598307ad"
      },
      "outputs": [
        {
          "name": "stdout",
          "output_type": "stream",
          "text": [
            "{'criterion': 'gini', 'max_depth': 25, 'min_samples_leaf': 25}\n"
          ]
        },
        {
          "data": {
            "image/png": "[encoded data removed]",
            "text/plain": [
              "<Figure size 432x288 with 2 Axes>"
            ]
          },
          "metadata": {},
          "output_type": "display_data"
        }
      ],
      "source": [
        "classifier = DecisionTreeClassifier()\n",
        "# param_grid = {'criterion':['gini', 'entropy'],\n",
        "#               \"max_depth\":[5,10,15,20,25] , \n",
        "#               'min_samples_leaf':np.arange(5,30,5)}\n",
        "param_grid = {'criterion': 'gini', 'max_depth': 25, 'min_samples_leaf': 25}\n",
        "\n",
        "grid_search = GridSearchCV(classifier, param_grid)\n",
        "grid_search.fit(train_x,train_y)\n",
        "print(grid_search.best_params_)\n",
        "\n",
        "pred_y = grid_search.predict(test_x)\n",
        "accuracy = np.round(accuracy_score(test_y, pred_y),4)*100\n",
        "print(\"Accuracy is equal {}%\".format(accuracy))\n",
        "cm_plot(pred_y, test_y, \"Decision Tree - unigrams\")\n",
        "\n",
        "pickle.dump(grid_search,open(\"tree_uni.sav\", \"wb\"))"
      ]
    },
    {
      "cell_type": "code",
      "execution_count": null,
      "metadata": {
        "colab": {
          "base_uri": "https://localhost:8080/",
          "height": 330
        },
        "id": "gRILolGJh9-R",
        "outputId": "4ecd411d-fca8-4547-dd78-47dedb9671e6"
      },
      "outputs": [
        {
          "output_type": "stream",
          "name": "stdout",
          "text": [
            "{'criterion': 'gini', 'max_depth': 25, 'min_samples_leaf': 25}\n",
            "Accuracy is equal 73.33%\n"
          ]
        },
        {
          "output_type": "display_data",
          "data": {
            "text/plain": [
              "<Figure size 432x288 with 2 Axes>"
            ],
            "image/png": "[encoded data removed]"
          },
          "metadata": {
            "needs_background": "light"
          }
        }
      ],
      "source": [
        "classifier = DecisionTreeClassifier()\n",
        "param_grid = {'criterion':['gini', 'entropy'],\n",
        "              \"max_depth\":[5,10,15,20,25] , \n",
        "              'min_samples_leaf':np.arange(5,30,5)}\n",
        "\n",
        "\n",
        "grid_search = GridSearchCV(classifier, param_grid)\n",
        "grid_search.fit(train_x,train_y)\n",
        "print(grid_search.best_params_)\n",
        "\n",
        "pred_y = grid_search.predict(test_x)\n",
        "accuracy = np.round(accuracy_score(test_y, pred_y),4)*100\n",
        "print(\"Accuracy is equal {}%\".format(accuracy))\n",
        "cm_plot(pred_y, test_y, \"Decision Tree \")\n",
        "\n",
        "pickle.dump(grid_search,open(\"tree.sav\", \"wb\"))"
      ]
    },
    {
      "cell_type": "code",
      "source": [
        "classifier = DecisionTreeClassifier()\n",
        "param_grid = {'criterion':['gini', 'entropy'],\n",
        "              \"max_depth\":[5,10,15,20,25] , \n",
        "              'min_samples_leaf':np.arange(5,30,5)}\n",
        "\n",
        "grid_search = GridSearchCV(classifier, param_grid)\n",
        "grid_search.fit(train_x,train_y)\n",
        "print(grid_search.best_params_)\n",
        "\n",
        "pred_y = grid_search.predict(test_x)\n",
        "accuracy = np.round(accuracy_score(test_y, pred_y),4)*100\n",
        "print(\"Accuracy is equal {}%\".format(accuracy))\n",
        "cm_plot(pred_y, test_y, \"Decision Tree - bigrams\")\n",
        "\n",
        "pickle.dump(grid_search,open(\"tree_bi.sav\", \"wb\"))\n",
        "\n",
        "\n",
        "# from six import StringIO\n",
        "# from sklearn.tree import export_graphviz\n",
        "# import pydotplus\n",
        "# from IPython.display import Image\n",
        "\n",
        "# dot_data = StringIO()\n",
        "# export_graphviz(classifier,\n",
        "#                out_file=dot_data,\n",
        "#                feature_names=bi_vectorizer.get_feature_names_out(),\n",
        "#                class_names=['postivie', 'negative'],\n",
        "#                special_characters=True,\n",
        "#                rounded=True,\n",
        "#                filled=True)\n",
        "# graph = pydotplus.graph_from_dot_data(dot_data.getvalue())\n",
        "# graph.write_png('graph.png')\n",
        "# Image(graph.create_png(), width=300)"
      ],
      "metadata": {
        "id": "rOl9qSwm5DWQ"
      },
      "execution_count": null,
      "outputs": []
    },
    {
      "cell_type": "markdown",
      "metadata": {
        "id": "osu57LiSKJFV"
      },
      "source": [
        "### Decsion Forest"
      ]
    },
    {
      "cell_type": "code",
      "execution_count": null,
      "metadata": {
        "colab": {
          "base_uri": "https://localhost:8080/"
        },
        "id": "9txNLd6cgxaT",
        "outputId": "6df30220-bbf0-4b6e-f7cf-bf183c2f053b"
      },
      "outputs": [
        {
          "output_type": "stream",
          "name": "stdout",
          "text": [
            "{'criterion': 'gini', 'max_depth': 25, 'min_samples_leaf': 25, 'n_estimators': 150}\n",
            "Accuracy is equal 81.42%\n"
          ]
        },
        {
          "output_type": "display_data",
          "data": {
            "text/plain": [
              "<Figure size 432x288 with 2 Axes>"
            ],
            "image/png": "[encoded data removed]"
          },
          "metadata": {
            "needs_background": "light"
          }
        }
      ],
      "source": [
        "classifier = RandomForestClassifier()\n",
        "param_grid = {\"n_estimators\":[150] ,      #np.arange(0,300,50),\n",
        "              'criterion': ['gini'], \n",
        "              'max_depth': [25], \n",
        "              'min_samples_leaf': [25]}\n",
        "\n",
        "grid_search = GridSearchCV(classifier, param_grid)\n",
        "grid_search.fit(train_x,train_y)\n",
        "print(grid_search.best_params_)\n",
        "\n",
        "pred_y = grid_search.predict(test_x)\n",
        "accuracy = np.round(accuracy_score(test_y, pred_y),4)*100\n",
        "print(\"Accuracy is equal {}%\".format(accuracy))\n",
        "cm_plot(pred_y, test_y, \"LRandom Forest - unigrams\")\n",
        "\n",
        "pickle.dump(grid_search,open(\"forest_uni.sav\", \"wb\"))"
      ]
    },
    {
      "cell_type": "code",
      "source": [
        "classifier = RandomForestClassifier()\n",
        "param_grid = {\"n_estimators\":np.arange(0,300,50),\n",
        "              'criterion': ['gini'], \n",
        "              'max_depth': [25], \n",
        "              'min_samples_leaf': [25]}\n",
        "\n",
        "grid_search = GridSearchCV(classifier, param_grid)\n",
        "grid_search.fit(train_x_bi,train_y_bi)\n",
        "print(grid_search.best_params_)\n",
        "\n",
        "pred_y_bi = grid_search.predict(test_x_bi)\n",
        "accuracy = np.round(accuracy_score(test_y_bi, pred_y_bi),4)*100\n",
        "print(\"Accuracy is equal {}%\".format(accuracy))\n",
        "cm_plot(pred_y_bi, test_y_bi, \"LRandom Forest - bigrams\")\n",
        "\n",
        "pickle.dump(grid_search,open(\"forest_bi.sav\", \"wb\"))"
      ],
      "metadata": {
        "id": "K7FIiV43wXH1"
      },
      "execution_count": null,
      "outputs": []
    },
    {
      "cell_type": "markdown",
      "metadata": {
        "id": "0ru3AprDLSiK"
      },
      "source": [
        "### Support Vector Machine (SVM)"
      ]
    },
    {
      "cell_type": "code",
      "source": [
        "classifier = SVC()\n",
        "param_grid = {'C': [ 1],\n",
        "              'gamma': ['scale'],\n",
        "              'kernel': ['rbf']}\n",
        "\n",
        "grid_search = GridSearchCV(classifier, param_grid)\n",
        "grid_search.fit(train_x,train_y)\n",
        "print(grid_search.best_params_)\n",
        "\n",
        "pred_y = grid_search.predict(test_x)\n",
        "accuracy = np.round(accuracy_score(test_y, pred_y),4)*100\n",
        "print(\"Accuracy is equal {}%\".format(accuracy))\n",
        "cm_plot(pred_y, test_y, \"SVM - unigrams\")\n",
        "\n",
        "pickle.dump(grid_search,open(\"svm_uni.sav\", \"wb\"))"
      ],
      "metadata": {
        "id": "eEw2gaSOtslX",
        "colab": {
          "base_uri": "https://localhost:8080/",
          "height": 330
        },
        "outputId": "12258359-1a37-45c8-b5b5-2e87c70d139b"
      },
      "execution_count": null,
      "outputs": [
        {
          "output_type": "stream",
          "name": "stdout",
          "text": [
            "{'C': 1, 'gamma': 'scale', 'kernel': 'rbf'}\n",
            "Accuracy is equal 85.72999999999999%\n"
          ]
        },
        {
          "output_type": "display_data",
          "data": {
            "text/plain": [
              "<Figure size 432x288 with 2 Axes>"
            ],
            "image/png": "[encoded data removed]"
          },
          "metadata": {
            "needs_background": "light"
          }
        }
      ]
    },
    {
      "cell_type": "code",
      "source": [
        "n_estimators = 10\n",
        "\n",
        "clf = OneVsRestClassifier(BaggingClassifier(SVC(kernel='rbf', C=1, gamma=1,\n",
        "                                                probability=True, class_weight='balanced'), max_samples=1.0 / n_estimators, n_estimators=n_estimators))\n",
        "clf.fit(train_x,train_y)\n",
        "\n",
        "pred_y = clf.predict(test_x)\n",
        "accuracy = np.round(accuracy_score(test_y, pred_y),4)*100\n",
        "print(\"Accuracy is equal {}%\".format(accuracy))\n",
        "cm_plot(pred_y, test_y, \"SVM - bigrams\")\n",
        "\n",
        "# pickle.dump(clf,open(\"svm.sav\", \"wb\"))"
      ],
      "metadata": {
        "colab": {
          "base_uri": "https://localhost:8080/",
          "height": 312
        },
        "id": "grJ7gLS25K_y",
        "outputId": "a88f8eee-4ba1-44a4-b9c9-be3f398d068f"
      },
      "execution_count": null,
      "outputs": [
        {
          "output_type": "stream",
          "name": "stdout",
          "text": [
            "Accuracy is equal 84.26%\n"
          ]
        },
        {
          "output_type": "display_data",
          "data": {
            "text/plain": [
              "<Figure size 432x288 with 2 Axes>"
            ],
            "image/png": "[encoded data removed]"
          },
          "metadata": {
            "needs_background": "light"
          }
        }
      ]
    },
    {
      "cell_type": "code",
      "source": [
        "n_estimators = 10\n",
        "\n",
        "clf = OneVsRestClassifier(BaggingClassifier(SVC(kernel='rbf', C=1, gamma='scale',\n",
        "                                                probability=True, class_weight='balanced'), max_samples=1.0 / n_estimators, n_estimators=n_estimators))\n",
        "clf.fit(train_x,train_y)\n",
        "\n",
        "pred_y = clf.predict(test_x)\n",
        "accuracy = np.round(accuracy_score(test_y, pred_y),4)*100\n",
        "print(\"Accuracy is equal {}%\".format(accuracy))\n",
        "cm_plot(pred_y, test_y, \"SVM - bigrams\")\n",
        "\n",
        "# pickle.dump(clf,open(\"svm.sav\", \"wb\"))"
      ],
      "metadata": {
        "colab": {
          "base_uri": "https://localhost:8080/",
          "height": 312
        },
        "id": "FwhF-swH7Ck2",
        "outputId": "fd272b4c-e77d-4ae7-cdaf-ab05ac2824e5"
      },
      "execution_count": null,
      "outputs": [
        {
          "output_type": "stream",
          "name": "stdout",
          "text": [
            "Accuracy is equal 84.61%\n"
          ]
        },
        {
          "output_type": "display_data",
          "data": {
            "text/plain": [
              "<Figure size 432x288 with 2 Axes>"
            ],
            "image/png": "[encoded data removed]"
          },
          "metadata": {
            "needs_background": "light"
          }
        }
      ]
    },
    {
      "cell_type": "code",
      "source": [
        "n_estimators = 10\n",
        "\n",
        "clf = OneVsRestClassifier(BaggingClassifier(SVC(kernel='rbf', C=1, gamma='auto',\n",
        "                                                probability=True, class_weight='balanced'), max_samples=1.0 / n_estimators, n_estimators=n_estimators))\n",
        "clf.fit(train_x,train_y)\n",
        "\n",
        "pred_y = clf.predict(test_x)\n",
        "accuracy = np.round(accuracy_score(test_y, pred_y),4)*100\n",
        "print(\"Accuracy is equal {}%\".format(accuracy))\n",
        "cm_plot(pred_y, test_y, \"SVM - bigrams\")\n",
        "\n",
        "# pickle.dump(clf,open(\"svm.sav\", \"wb\"))"
      ],
      "metadata": {
        "colab": {
          "base_uri": "https://localhost:8080/",
          "height": 312
        },
        "id": "dK29RRk64DTE",
        "outputId": "c5e38d93-4e30-41a7-9ed5-f43babcef1b0"
      },
      "execution_count": null,
      "outputs": [
        {
          "output_type": "stream",
          "name": "stdout",
          "text": [
            "Accuracy is equal 50.0%\n"
          ]
        },
        {
          "output_type": "display_data",
          "data": {
            "text/plain": [
              "<Figure size 432x288 with 2 Axes>"
            ],
            "image/png": "[encoded data removed]"
          },
          "metadata": {
            "needs_background": "light"
          }
        }
      ]
    },
    {
      "cell_type": "code",
      "source": [
        "n_estimators = 10\n",
        "\n",
        "clf = OneVsRestClassifier(BaggingClassifier(SVC(kernel='rbf', C=0.1, gamma='scale',\n",
        "                                                probability=True, class_weight='balanced'), max_samples=1.0 / n_estimators, n_estimators=n_estimators))\n",
        "clf.fit(train_x,train_y)\n",
        "\n",
        "pred_y = clf.predict(test_x)\n",
        "accuracy = np.round(accuracy_score(test_y, pred_y),4)*100\n",
        "print(\"Accuracy is equal {}%\".format(accuracy))\n",
        "cm_plot(pred_y, test_y, \"SVM - bigrams\")\n",
        "\n",
        "# pickle.dump(clf,open(\"svm.sav\", \"wb\"))"
      ],
      "metadata": {
        "colab": {
          "base_uri": "https://localhost:8080/",
          "height": 312
        },
        "id": "idspEj1Y7JkG",
        "outputId": "68a09e28-5cc9-48f5-a3dd-40cf7c7d8898"
      },
      "execution_count": null,
      "outputs": [
        {
          "output_type": "stream",
          "name": "stdout",
          "text": [
            "Accuracy is equal 75.84%\n"
          ]
        },
        {
          "output_type": "display_data",
          "data": {
            "text/plain": [
              "<Figure size 432x288 with 2 Axes>"
            ],
            "image/png": "[encoded data removed]"
          },
          "metadata": {
            "needs_background": "light"
          }
        }
      ]
    },
    {
      "cell_type": "code",
      "source": [
        "n_estimators = 10\n",
        "\n",
        "clf = OneVsRestClassifier(BaggingClassifier(SVC(kernel='rbf', C=10, gamma='scale',\n",
        "                                                probability=True, class_weight='balanced'), max_samples=1.0 / n_estimators, n_estimators=n_estimators))\n",
        "clf.fit(train_x,train_y)\n",
        "\n",
        "pred_y = clf.predict(test_x)\n",
        "accuracy = np.round(accuracy_score(test_y, pred_y),4)*100\n",
        "print(\"Accuracy is equal {}%\".format(accuracy))\n",
        "cm_plot(pred_y, test_y, \"SVM - bigrams\")\n",
        "\n",
        "# pickle.dump(clf,open(\"svm.sav\", \"wb\"))"
      ],
      "metadata": {
        "colab": {
          "base_uri": "https://localhost:8080/",
          "height": 312
        },
        "id": "6aeNWmmh8Qik",
        "outputId": "c555c4b9-2126-4390-f2c1-cd1512108bf3"
      },
      "execution_count": null,
      "outputs": [
        {
          "output_type": "stream",
          "name": "stdout",
          "text": [
            "Accuracy is equal 84.7%\n"
          ]
        },
        {
          "output_type": "display_data",
          "data": {
            "text/plain": [
              "<Figure size 432x288 with 2 Axes>"
            ],
            "image/png": "[encoded data removed]"
          },
          "metadata": {
            "needs_background": "light"
          }
        }
      ]
    }
  ],
  "metadata": {
    "colab": {
      "collapsed_sections": [
        "MgJOL07Z6rPG",
        "dVHwQGCVCO7d",
        "KNzB_b1REi9B",
        "LWeIsc0LIDr3"
      ],
      "name": "imdb.ipynb",
      "provenance": []
    },
    "kernelspec": {
      "display_name": "Python 3",
      "name": "python3"
    },
    "language_info": {
      "name": "python"
    }
  },
  "nbformat": 4,
  "nbformat_minor": 0
}